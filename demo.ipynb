{
 "cells": [
  {
   "cell_type": "code",
   "execution_count": 2,
   "metadata": {},
   "outputs": [],
   "source": [
    "import torch\n",
    "import os\n",
    "import json\n",
    "import warnings\n",
    "warnings.filterwarnings(\"ignore\", category=UserWarning)\n",
    "\n",
    "import torch.nn.functional as F\n",
    "import torch.nn as nn\n",
    "import numpy as np\n",
    "import xml.etree.ElementTree as ET\n",
    "import albumentations as A\n",
    "import albumentations.pytorch.transforms as A_transform\n",
    "\n",
    "from torch.utils.data import Dataset, DataLoader\n",
    "from torchvision.models import vgg16\n",
    "from torchvision.ops import box_convert, box_iou, nms, clip_boxes_to_image\n",
    "\n",
    "from tqdm import tqdm\n",
    "from PIL import Image\n",
    "\n",
    "import conf as cfg"
   ]
  },
  {
   "cell_type": "code",
   "execution_count": 2,
   "metadata": {},
   "outputs": [],
   "source": [
    "def make_json_file(vocpath):\n",
    "    abspath = os.path.abspath(vocpath, )\n",
    "\n",
    "    for data_split in ['train', 'trainval', 'val']:\n",
    "        with open(f\"{abspath}/ImageSets/Main/{data_split}.txt\", \"r\") as f:\n",
    "            file_path_list = f.read().splitlines()\n",
    "        \n",
    "        img_path_list = [f\"{abspath}/JPEGImages/{i}.jpg\" for i in file_path_list]\n",
    "        xml_path_list = [f\"{abspath}/Annotations/{i}.xml\" for i in file_path_list]\n",
    "        xml_parse_list = []\n",
    "\n",
    "        for single_xmlpath in xml_path_list:\n",
    "            tree = ET.parse(single_xmlpath)\n",
    "            root = tree.getroot()\n",
    "            bbox_dict = {\"boxes\": [], \"labels\": []}\n",
    "\n",
    "            for _object in root.findall(\"object\"):\n",
    "                label = cfg.CLASSES_DICT[_object.find(\"name\").text]\n",
    "                \n",
    "                xmin = int(_object.find(\"bndbox\").find(\"xmin\").text) - 1\n",
    "                ymin = int(_object.find(\"bndbox\").find(\"ymin\").text) - 1\n",
    "                xmax = int(_object.find(\"bndbox\").find(\"xmax\").text) - 1\n",
    "                ymax = int(_object.find(\"bndbox\").find(\"ymax\").text) - 1\n",
    "\n",
    "                bbox_dict['boxes'].append([xmin, ymin, xmax, ymax])\n",
    "                bbox_dict['labels'].append(label)                \n",
    "            \n",
    "            xml_parse_list.append(bbox_dict)\n",
    "\n",
    "        with open(f\"./pre_defined_data/{data_split}_images.json\", \"w\") as f:\n",
    "            json.dump(img_path_list, f)\n",
    "        \n",
    "        with open(f\"./pre_defined_data/{data_split}_annot.json\", \"w\") as f:\n",
    "            json.dump(xml_parse_list, f)\n",
    "\n",
    "class VOCDataset(Dataset):\n",
    "    def __init__(self, data_split, img_resize, apply_transform):\n",
    "        with open(f\"./pre_defined_data/{data_split}_images.json\", \"r\") as f:\n",
    "            self.img_path_list = json.load(f)[:2]\n",
    "        \n",
    "        with open(f\"./pre_defined_data/{data_split}_annot.json\", \"r\") as f:\n",
    "            self.xml_parse_list = json.load(f)[:2]\n",
    "        \n",
    "        self.transform = apply_transform\n",
    "        self.imgwidth, self.imgheight = img_resize\n",
    "\n",
    "    def __len__(self):\n",
    "        return len(self.img_path_list)\n",
    "    \n",
    "    def __getitem__(self, idx):\n",
    "        gridinfo = torch.zeros((7, 7, 30), dtype=torch.float)\n",
    "\n",
    "        img = np.array(Image.open(self.img_path_list[idx]))\n",
    "        bbox = self.xml_parse_list[idx]['boxes']\n",
    "        labels = self.xml_parse_list[idx]['labels']\n",
    "\n",
    "        augmentation = self.transform(image=img, bboxes=bbox, class_labels=labels)\n",
    "\n",
    "        img = augmentation['image']\n",
    "        labels = torch.tensor(augmentation['class_labels'])\n",
    "        \n",
    "        boxes = torch.tensor(augmentation['bboxes'])\n",
    "        boxes = box_convert(boxes, in_fmt='xyxy', out_fmt='cxcywh')\n",
    "\n",
    "        for box, label in zip(boxes, labels):\n",
    "            box = box.float()\n",
    "            grid_x = int(box[0] / 32)\n",
    "            grid_y = int(box[1] / 32)\n",
    "\n",
    "            gridinfo[grid_x, grid_y, [0, 5]] = box[0] / self.imgwidth\n",
    "            gridinfo[grid_x, grid_y, [2, 7]] = box[2] / self.imgwidth\n",
    "\n",
    "            gridinfo[grid_x, grid_y, [1, 6]] = box[1] / self.imgheight\n",
    "            gridinfo[grid_x, grid_y, [3, 8]] = box[3] / self.imgheight\n",
    "                     \n",
    "            gridinfo[grid_x, grid_y, [4, 9]] = 1\n",
    "            gridinfo[grid_x][grid_y][10 + label] = 1\n",
    "\n",
    "        return img, gridinfo\n",
    "\n",
    "img_width, img_height = (224, 224)\n",
    "\n",
    "A_resize = A.Compose([A.Resize(img_width, img_height),\n",
    "                      A.Normalize(),\n",
    "                      A_transform.ToTensorV2()\n",
    "                      ],\n",
    "                     bbox_params=A.BboxParams(format='pascal_voc', label_fields=['class_labels']))\n",
    "\n",
    "train_dataset = VOCDataset(data_split='trainval', img_resize=(img_width, img_height), apply_transform=A_resize)\n",
    "train_dataloader = DataLoader(train_dataset, batch_size=2, shuffle=False, pin_memory=True)"
   ]
  },
  {
   "cell_type": "code",
   "execution_count": 3,
   "metadata": {},
   "outputs": [],
   "source": [
    "class YOLOv1(nn.Module):\n",
    "    def __init__(self):\n",
    "        super(YOLOv1, self).__init__()\n",
    "\n",
    "        self.backbone = vgg16(weights=True)\n",
    "\n",
    "        if cfg.FREEZING:\n",
    "            for param in self.backbone.features.parameters():\n",
    "                param.requires_grad = False\n",
    "        \n",
    "        self.backbone = self.backbone.features[:-1]\n",
    "\n",
    "        self.added_conv = nn.Sequential(\n",
    "            nn.Conv2d(in_channels=512, out_channels=1024, kernel_size=3, padding=1),\n",
    "            nn.LeakyReLU(),\n",
    "            nn.Conv2d(in_channels = 1024, out_channels = 1024, kernel_size = 3, padding = 1),\n",
    "            nn.LeakyReLU(),\n",
    "            nn.MaxPool2d(2),\n",
    "            nn.Conv2d(in_channels = 1024, out_channels = 1024, kernel_size = 3, padding = 1),\n",
    "            nn.LeakyReLU(),\n",
    "            nn.Conv2d(in_channels = 1024, out_channels = 1024, kernel_size = 3, padding = 1),\n",
    "            nn.LeakyReLU(),\n",
    "            nn.Flatten()\n",
    "        )\n",
    "\n",
    "        self.fc = nn.Sequential(\n",
    "            nn.Linear(7* 7 * 1024, 4096),\n",
    "            nn.LeakyReLU(),\n",
    "            nn.Dropout(p=0.5),\n",
    "            nn.Linear(4096, 7 * 7 * 30),\n",
    "            nn.Sigmoid() # cx, cy, w, h, confidence, class probabilities 모두 0~1 범위 내에 해당하므로\n",
    "        )\n",
    "\n",
    "\n",
    "        for layer in self.added_conv.modules():\n",
    "    \t    if isinstance(layer, nn.Conv2d):\n",
    "\t\t        nn.init.normal_(layer.weight, mean=0, std=0.01)\n",
    "                  \n",
    "        for layer in self.fc.modules():\n",
    "            if isinstance(layer, nn.Linear):\n",
    "                nn.init.normal_(layer.weight, mean=0, std=0.01)\n",
    "\n",
    "    def inference(self, pred, img_width, img_height, conf_thres=0.25, iou_thres=0.45):\n",
    "        with torch.no_grad():\n",
    "            coord_info = pred[:, :, :10]\n",
    "            coord_info = coord_info.view(7, 7, 2, 5)\n",
    "\n",
    "            grid_max_conf, _ = pred[:, :, [4, 9]].max(dim=2)\n",
    "            coord_info = coord_info[pred[:, :, [4, 9]] == grid_max_conf.unsqueeze(-1)].view(7, 7, 5)\n",
    "\n",
    "            conf_mask = coord_info[:, :, 4] >= conf_thres\n",
    "\n",
    "            class_info = pred[:, :, 10:]\n",
    "            class_info = class_info[conf_mask].view(-1, 20)\n",
    "            coord_info = coord_info[conf_mask]\n",
    "\n",
    "            after_nms = torch.zeros((coord_info.size(0), 6))\n",
    "\n",
    "            anchor_coord = coord_info[:, :4]\n",
    "            anchor_conf = coord_info[:, 4]\n",
    "            grid_class = class_info.argmax(dim=1)\n",
    "\n",
    "            nms_ind = nms(anchor_coord, anchor_conf, iou_threshold=iou_thres)\n",
    "\n",
    "            after_nms[:, :4] = anchor_coord[nms_ind]\n",
    "            after_nms[:, 4] = anchor_conf[nms_ind]\n",
    "            after_nms[:, 5] = grid_class\n",
    "            \n",
    "            after_nms[:, [0, 2]] *= img_width\n",
    "            after_nms[:, [1, 3]] *= img_height\n",
    "\n",
    "        return after_nms\n",
    "    \n",
    "    def forward(self, x):\n",
    "         out = self.backbone(x)\n",
    "         out = self.added_conv(out)\n",
    "         out = self.fc(out)\n",
    "         out = out.view(-1, 7, 7, 30)\n",
    "\n",
    "         return out\n",
    "\n",
    "class YOLOv1Loss(nn.Module):\n",
    "    def __init__(self):\n",
    "        super(YOLOv1Loss, self).__init__()\n",
    "\n",
    "    def forward(self, pred_tensor, target_tensor):\n",
    "        \"\"\"\n",
    "        현재 no object, object loss와 같이 배치단위 처리가 필요없는 부분도 \n",
    "        배치단위 처리하게 짜놔서 학습 시 속도저하 요인이 되는듯.\n",
    "\n",
    "        coordinate regression 등 불가피한 부분은 배치단위 처리,\n",
    "        나머지 부분은 벡터화를 통한 처리속도 개선을 목적으로 하기.\n",
    "        \"\"\"\n",
    "        batch_size = pred_tensor.size(0)\n",
    "\n",
    "        batch_obj_loss = torch.tensor(0).to(cfg.DEVICE)\n",
    "        batch_coord_loss = torch.tensor(0).to(cfg.DEVICE)\n",
    "        batch_cls_loss = torch.tensor(0).to(cfg.DEVICE)\n",
    "        batch_loss = torch.tensor(0).to(cfg.DEVICE)\n",
    "\n",
    "        for i in range(batch_size):            \n",
    "            batch_target_tensor = target_tensor[i]\n",
    "            batch_pred_tensor = pred_tensor[i].contiguous()\n",
    "            \n",
    "            noobj_mask = target_tensor[i, :, :, 4] == 0\n",
    "\n",
    "            pred_noobj_info = batch_pred_tensor[noobj_mask].view(-1, 30)\n",
    "            target_noobj_info = batch_target_tensor[noobj_mask].view(-1, 30)\n",
    "\n",
    "            noobj_conf_mask = torch.ByteTensor(pred_noobj_info.size()).fill_(0).to(cfg.DEVICE)\n",
    "            noobj_conf_mask[:, [4, 9]] = 1\n",
    "\n",
    "            noobj_pred_conf = pred_noobj_info[noobj_conf_mask]\n",
    "            noobj_target_conf = target_noobj_info[noobj_conf_mask]\n",
    "            \n",
    "            noobj_loss = F.mse_loss(noobj_pred_conf, noobj_target_conf, reduction='sum')\n",
    "            # ----------------------------- no object loss end -----------------------------\n",
    "            obj_mask = target_tensor[i, :, :, 4] > 0\n",
    "            \n",
    "            pred_obj_info = batch_pred_tensor[obj_mask].view(-1, 30)\n",
    "            target_obj_info = batch_target_tensor[obj_mask].view(-1, 30)\n",
    "\n",
    "            bbox_pred = pred_obj_info[:, :10].contiguous().view(-1, 5)\n",
    "            bbox_target = target_obj_info[:, :10].contiguous().view(-1, 5)\n",
    "            \n",
    "            pred_coord_xyxy = box_convert(bbox_pred[:, :4], in_fmt='cxcywh', out_fmt='xyxy')\n",
    "            target_coord_xyxy = box_convert(bbox_target[:, :4], in_fmt='cxcywh', out_fmt='xyxy')\n",
    "\n",
    "            max_iou, _ = box_iou(pred_coord_xyxy, target_coord_xyxy).max(dim=0)\n",
    "\n",
    "            coord_obj_mask = torch.BoolTensor((bbox_pred.size(0))).to(cfg.DEVICE)\n",
    "            coord_obj_mask[max_iou != 0] = True\n",
    "\n",
    "            pred_coord_cxcy = bbox_pred[:, :2][coord_obj_mask]\n",
    "            pred_coord_wh = bbox_pred[:, 2:4][coord_obj_mask]\n",
    "            target_coord_cxcy = bbox_target[:, :2][coord_obj_mask]\n",
    "            target_coord_wh = bbox_target[:, 2:4][coord_obj_mask]\n",
    "\n",
    "            coord_loss_cxcy = F.mse_loss(pred_coord_cxcy, target_coord_cxcy, reduction='sum')\n",
    "            coord_loss_wh = F.mse_loss(torch.sqrt(pred_coord_wh), torch.sqrt(target_coord_wh), reduction='sum')\n",
    "            # ----------------------------- coordinate loss end ----------------------------            \n",
    "            pred_iou = bbox_pred[:, 4][coord_obj_mask]\n",
    "            target_iou = bbox_target[:, 4][coord_obj_mask]\n",
    "\n",
    "            obj_loss = F.mse_loss(pred_iou, target_iou, reduction='sum')       \n",
    "            # ----------------------------- objectness loss end ----------------------------\n",
    "            class_target = target_obj_info[:, 10:]\n",
    "            class_pred = pred_obj_info[:, 10:]\n",
    "            \n",
    "            cls_loss = F.mse_loss(class_pred, class_target, reduction='sum')\n",
    "            # --------------------------- classification loss end --------------------------\n",
    "            batch_cls_loss = batch_cls_loss + cls_loss\n",
    "            batch_obj_loss = batch_obj_loss + obj_loss + (noobj_loss * cfg.NOOBJ_LAMBDA)\n",
    "            batch_coord_loss = batch_coord_loss + (coord_loss_cxcy + coord_loss_wh) * cfg.COORD_LAMBDA\n",
    "            # ------------------------------- batch loss end ------------------------------\n",
    "\n",
    "        batch_cls_loss = batch_cls_loss / batch_size\n",
    "        batch_obj_loss = batch_obj_loss / batch_size\n",
    "        batch_coord_loss = batch_coord_loss / batch_size\n",
    "\n",
    "        batch_loss = batch_cls_loss + batch_obj_loss + batch_coord_loss\n",
    "\n",
    "        return batch_loss, batch_cls_loss, batch_obj_loss, batch_coord_loss"
   ]
  },
  {
   "cell_type": "code",
   "execution_count": 4,
   "metadata": {},
   "outputs": [],
   "source": [
    "m = YOLOv1().to(cfg.DEVICE)\n",
    "criterion = YOLOv1Loss().to(cfg.DEVICE)\n",
    "\n",
    "optimizer = torch.optim.SGD(m.parameters(), lr = 0.001, momentum = 0.9, weight_decay=0.0005)"
   ]
  },
  {
   "cell_type": "code",
   "execution_count": 5,
   "metadata": {},
   "outputs": [
    {
     "name": "stderr",
     "output_type": "stream",
     "text": [
      "Epoch: 1/200\tcls loss: 15.403872\tbox loss: 13.3973\treg loss: 6.559159\tbatch loss: 35.360317: 100%|██████████| 1/1 [00:02<00:00,  2.22s/it]\n"
     ]
    },
    {
     "name": "stdout",
     "output_type": "stream",
     "text": [
      "\n"
     ]
    },
    {
     "name": "stderr",
     "output_type": "stream",
     "text": [
      "Epoch: 2/200\tcls loss: 12.287513\tbox loss: 12.1339\treg loss: 5.913241\tbatch loss: 30.334652: 100%|██████████| 1/1 [00:00<00:00, 15.15it/s]\n"
     ]
    },
    {
     "name": "stdout",
     "output_type": "stream",
     "text": [
      "\n"
     ]
    },
    {
     "name": "stderr",
     "output_type": "stream",
     "text": [
      "Epoch: 3/200\tcls loss: 9.190514\tbox loss: 9.91573\treg loss: 2.761994\tbatch loss: 21.868237: 100%|██████████| 1/1 [00:00<00:00, 20.40it/s]\n"
     ]
    },
    {
     "name": "stdout",
     "output_type": "stream",
     "text": [
      "\n"
     ]
    },
    {
     "name": "stderr",
     "output_type": "stream",
     "text": [
      "Epoch: 4/200\tcls loss: 4.298016\tbox loss: 5.46988\treg loss: 1.792591\tbatch loss: 11.560488: 100%|██████████| 1/1 [00:00<00:00, 19.60it/s]\n"
     ]
    },
    {
     "name": "stdout",
     "output_type": "stream",
     "text": [
      "\n"
     ]
    },
    {
     "name": "stderr",
     "output_type": "stream",
     "text": [
      "Epoch: 5/200\tcls loss: 1.075403\tbox loss: 2.04225\treg loss: 4.190456\tbatch loss: 7.308106: 100%|██████████| 1/1 [00:00<00:00, 20.83it/s]\n"
     ]
    },
    {
     "name": "stdout",
     "output_type": "stream",
     "text": [
      "\n"
     ]
    },
    {
     "name": "stderr",
     "output_type": "stream",
     "text": [
      "Epoch: 6/200\tcls loss: 0.481812\tbox loss: 0.861684\treg loss: 4.861570\tbatch loss: 6.205066: 100%|██████████| 1/1 [00:00<00:00, 21.27it/s]\n"
     ]
    },
    {
     "name": "stdout",
     "output_type": "stream",
     "text": [
      "\n"
     ]
    },
    {
     "name": "stderr",
     "output_type": "stream",
     "text": [
      "Epoch: 7/200\tcls loss: 0.439061\tbox loss: 0.795432\treg loss: 4.149454\tbatch loss: 5.383946: 100%|██████████| 1/1 [00:00<00:00, 20.00it/s]\n"
     ]
    },
    {
     "name": "stdout",
     "output_type": "stream",
     "text": [
      "\n"
     ]
    },
    {
     "name": "stderr",
     "output_type": "stream",
     "text": [
      "Epoch: 8/200\tcls loss: 0.026411\tbox loss: 0.304037\treg loss: 5.924582\tbatch loss: 6.255031: 100%|██████████| 1/1 [00:00<00:00, 19.23it/s]\n"
     ]
    },
    {
     "name": "stdout",
     "output_type": "stream",
     "text": [
      "\n"
     ]
    },
    {
     "name": "stderr",
     "output_type": "stream",
     "text": [
      "Epoch: 9/200\tcls loss: 0.253792\tbox loss: 0.504591\treg loss: 7.098206\tbatch loss: 7.856588: 100%|██████████| 1/1 [00:00<00:00, 19.60it/s]\n"
     ]
    },
    {
     "name": "stdout",
     "output_type": "stream",
     "text": [
      "\n"
     ]
    },
    {
     "name": "stderr",
     "output_type": "stream",
     "text": [
      "Epoch: 10/200\tcls loss: 0.106488\tbox loss: 2.35515\treg loss: 18.099018\tbatch loss: 20.560659: 100%|██████████| 1/1 [00:00<00:00, 18.51it/s]\n"
     ]
    },
    {
     "name": "stdout",
     "output_type": "stream",
     "text": [
      "\n"
     ]
    },
    {
     "name": "stderr",
     "output_type": "stream",
     "text": [
      "Epoch: 11/200\tcls loss: 0.073686\tbox loss: 1.06601\treg loss: 13.076162\tbatch loss: 14.215861: 100%|██████████| 1/1 [00:00<00:00, 18.51it/s]\n"
     ]
    },
    {
     "name": "stdout",
     "output_type": "stream",
     "text": [
      "\n"
     ]
    },
    {
     "name": "stderr",
     "output_type": "stream",
     "text": [
      "Epoch: 12/200\tcls loss: 0.091571\tbox loss: 1.19221\treg loss: 16.518595\tbatch loss: 17.802378: 100%|██████████| 1/1 [00:00<00:00, 19.23it/s]\n"
     ]
    },
    {
     "name": "stdout",
     "output_type": "stream",
     "text": [
      "\n"
     ]
    },
    {
     "name": "stderr",
     "output_type": "stream",
     "text": [
      "Epoch: 13/200\tcls loss: 0.183570\tbox loss: 1.21539\treg loss: 21.240841\tbatch loss: 22.639799: 100%|██████████| 1/1 [00:00<00:00, 19.23it/s]\n"
     ]
    },
    {
     "name": "stdout",
     "output_type": "stream",
     "text": [
      "\n"
     ]
    },
    {
     "name": "stderr",
     "output_type": "stream",
     "text": [
      "Epoch: 14/200\tcls loss: 0.125013\tbox loss: 1.49201\treg loss: 19.827345\tbatch loss: 21.444372: 100%|██████████| 1/1 [00:00<00:00, 20.83it/s]\n"
     ]
    },
    {
     "name": "stdout",
     "output_type": "stream",
     "text": [
      "\n"
     ]
    },
    {
     "name": "stderr",
     "output_type": "stream",
     "text": [
      "Epoch: 15/200\tcls loss: 0.020198\tbox loss: 1.21876\treg loss: 19.221382\tbatch loss: 20.460339: 100%|██████████| 1/1 [00:00<00:00, 20.83it/s]\n"
     ]
    },
    {
     "name": "stdout",
     "output_type": "stream",
     "text": [
      "\n"
     ]
    },
    {
     "name": "stderr",
     "output_type": "stream",
     "text": [
      "Epoch: 16/200\tcls loss: 0.108719\tbox loss: 0.937354\treg loss: 19.770967\tbatch loss: 20.817041: 100%|██████████| 1/1 [00:00<00:00, 20.83it/s]\n"
     ]
    },
    {
     "name": "stdout",
     "output_type": "stream",
     "text": [
      "\n"
     ]
    },
    {
     "name": "stderr",
     "output_type": "stream",
     "text": [
      "Epoch: 17/200\tcls loss: 0.041259\tbox loss: 0.73013\treg loss: 20.216160\tbatch loss: 20.987549: 100%|██████████| 1/1 [00:00<00:00, 21.27it/s]\n"
     ]
    },
    {
     "name": "stdout",
     "output_type": "stream",
     "text": [
      "\n"
     ]
    },
    {
     "name": "stderr",
     "output_type": "stream",
     "text": [
      "Epoch: 18/200\tcls loss: 0.143887\tbox loss: 0.680724\treg loss: 19.057619\tbatch loss: 19.882231: 100%|██████████| 1/1 [00:00<00:00, 20.40it/s]\n"
     ]
    },
    {
     "name": "stdout",
     "output_type": "stream",
     "text": [
      "\n"
     ]
    },
    {
     "name": "stderr",
     "output_type": "stream",
     "text": [
      "Epoch: 19/200\tcls loss: 0.100544\tbox loss: 0.719582\treg loss: 18.211302\tbatch loss: 19.031427: 100%|██████████| 1/1 [00:00<00:00, 20.83it/s]\n"
     ]
    },
    {
     "name": "stdout",
     "output_type": "stream",
     "text": [
      "\n"
     ]
    },
    {
     "name": "stderr",
     "output_type": "stream",
     "text": [
      "Epoch: 20/200\tcls loss: 0.455046\tbox loss: 0.720926\treg loss: 16.450134\tbatch loss: 17.626106: 100%|██████████| 1/1 [00:00<00:00, 20.00it/s]\n"
     ]
    },
    {
     "name": "stdout",
     "output_type": "stream",
     "text": [
      "\n"
     ]
    },
    {
     "name": "stderr",
     "output_type": "stream",
     "text": [
      "Epoch: 21/200\tcls loss: 1.168856\tbox loss: 1.2067\treg loss: 13.223686\tbatch loss: 15.599241: 100%|██████████| 1/1 [00:00<00:00, 20.00it/s]\n"
     ]
    },
    {
     "name": "stdout",
     "output_type": "stream",
     "text": [
      "\n"
     ]
    },
    {
     "name": "stderr",
     "output_type": "stream",
     "text": [
      "Epoch: 22/200\tcls loss: 1.724837\tbox loss: 1.31447\treg loss: 10.910538\tbatch loss: 13.949842: 100%|██████████| 1/1 [00:00<00:00, 20.40it/s]\n"
     ]
    },
    {
     "name": "stdout",
     "output_type": "stream",
     "text": [
      "\n"
     ]
    },
    {
     "name": "stderr",
     "output_type": "stream",
     "text": [
      "Epoch: 23/200\tcls loss: 1.890413\tbox loss: 1.52136\treg loss: 8.891500\tbatch loss: 12.303277: 100%|██████████| 1/1 [00:00<00:00, 18.86it/s]\n"
     ]
    },
    {
     "name": "stdout",
     "output_type": "stream",
     "text": [
      "\n"
     ]
    },
    {
     "name": "stderr",
     "output_type": "stream",
     "text": [
      "Epoch: 24/200\tcls loss: 2.186286\tbox loss: 1.58201\treg loss: 6.258401\tbatch loss: 10.026699: 100%|██████████| 1/1 [00:00<00:00, 20.00it/s]\n"
     ]
    },
    {
     "name": "stdout",
     "output_type": "stream",
     "text": [
      "\n"
     ]
    },
    {
     "name": "stderr",
     "output_type": "stream",
     "text": [
      "Epoch: 25/200\tcls loss: 1.900265\tbox loss: 1.49048\treg loss: 4.881260\tbatch loss: 8.272011: 100%|██████████| 1/1 [00:00<00:00, 19.60it/s]\n"
     ]
    },
    {
     "name": "stdout",
     "output_type": "stream",
     "text": [
      "\n"
     ]
    },
    {
     "name": "stderr",
     "output_type": "stream",
     "text": [
      "Epoch: 26/200\tcls loss: 0.564627\tbox loss: 0.708088\treg loss: 3.491902\tbatch loss: 4.764617: 100%|██████████| 1/1 [00:00<00:00, 19.60it/s]\n"
     ]
    },
    {
     "name": "stdout",
     "output_type": "stream",
     "text": [
      "\n"
     ]
    },
    {
     "name": "stderr",
     "output_type": "stream",
     "text": [
      "Epoch: 27/200\tcls loss: 0.145755\tbox loss: 0.304746\treg loss: 4.334942\tbatch loss: 4.785444: 100%|██████████| 1/1 [00:00<00:00, 20.00it/s]\n"
     ]
    },
    {
     "name": "stdout",
     "output_type": "stream",
     "text": [
      "\n"
     ]
    },
    {
     "name": "stderr",
     "output_type": "stream",
     "text": [
      "Epoch: 28/200\tcls loss: 0.045043\tbox loss: 0.0999027\treg loss: 3.794304\tbatch loss: 3.939250: 100%|██████████| 1/1 [00:00<00:00, 20.83it/s]\n"
     ]
    },
    {
     "name": "stdout",
     "output_type": "stream",
     "text": [
      "\n"
     ]
    },
    {
     "name": "stderr",
     "output_type": "stream",
     "text": [
      "Epoch: 29/200\tcls loss: 0.038543\tbox loss: 0.0785805\treg loss: 5.004526\tbatch loss: 5.121650: 100%|██████████| 1/1 [00:00<00:00, 21.27it/s]\n"
     ]
    },
    {
     "name": "stdout",
     "output_type": "stream",
     "text": [
      "\n"
     ]
    },
    {
     "name": "stderr",
     "output_type": "stream",
     "text": [
      "Epoch: 30/200\tcls loss: 0.012409\tbox loss: 0.039348\treg loss: 3.715335\tbatch loss: 3.767092: 100%|██████████| 1/1 [00:00<00:00, 20.40it/s]\n"
     ]
    },
    {
     "name": "stdout",
     "output_type": "stream",
     "text": [
      "\n"
     ]
    },
    {
     "name": "stderr",
     "output_type": "stream",
     "text": [
      "Epoch: 31/200\tcls loss: 0.063528\tbox loss: 0.0767436\treg loss: 5.645717\tbatch loss: 5.785989: 100%|██████████| 1/1 [00:00<00:00, 21.27it/s]\n"
     ]
    },
    {
     "name": "stdout",
     "output_type": "stream",
     "text": [
      "\n"
     ]
    },
    {
     "name": "stderr",
     "output_type": "stream",
     "text": [
      "Epoch: 32/200\tcls loss: 0.016584\tbox loss: 0.0443827\treg loss: 4.118150\tbatch loss: 4.179117: 100%|██████████| 1/1 [00:00<00:00, 20.40it/s]\n"
     ]
    },
    {
     "name": "stdout",
     "output_type": "stream",
     "text": [
      "\n"
     ]
    },
    {
     "name": "stderr",
     "output_type": "stream",
     "text": [
      "Epoch: 33/200\tcls loss: 0.065953\tbox loss: 0.113784\treg loss: 4.165986\tbatch loss: 4.345723: 100%|██████████| 1/1 [00:00<00:00, 18.86it/s]\n"
     ]
    },
    {
     "name": "stdout",
     "output_type": "stream",
     "text": [
      "\n"
     ]
    },
    {
     "name": "stderr",
     "output_type": "stream",
     "text": [
      "Epoch: 34/200\tcls loss: 0.146936\tbox loss: 0.197787\treg loss: 4.090895\tbatch loss: 4.435617: 100%|██████████| 1/1 [00:00<00:00, 19.60it/s]\n"
     ]
    },
    {
     "name": "stdout",
     "output_type": "stream",
     "text": [
      "\n"
     ]
    },
    {
     "name": "stderr",
     "output_type": "stream",
     "text": [
      "Epoch: 35/200\tcls loss: 0.255751\tbox loss: 0.277911\treg loss: 2.372777\tbatch loss: 2.906439: 100%|██████████| 1/1 [00:00<00:00, 19.60it/s]\n"
     ]
    },
    {
     "name": "stdout",
     "output_type": "stream",
     "text": [
      "\n"
     ]
    },
    {
     "name": "stderr",
     "output_type": "stream",
     "text": [
      "Epoch: 36/200\tcls loss: 0.406658\tbox loss: 0.463381\treg loss: 2.657909\tbatch loss: 3.527948: 100%|██████████| 1/1 [00:00<00:00, 20.00it/s]\n"
     ]
    },
    {
     "name": "stdout",
     "output_type": "stream",
     "text": [
      "\n"
     ]
    },
    {
     "name": "stderr",
     "output_type": "stream",
     "text": [
      "Epoch: 37/200\tcls loss: 0.356868\tbox loss: 0.35429\treg loss: 2.317905\tbatch loss: 3.029062: 100%|██████████| 1/1 [00:00<00:00, 20.00it/s]\n"
     ]
    },
    {
     "name": "stdout",
     "output_type": "stream",
     "text": [
      "\n"
     ]
    },
    {
     "name": "stderr",
     "output_type": "stream",
     "text": [
      "Epoch: 38/200\tcls loss: 0.283199\tbox loss: 0.285177\treg loss: 2.146926\tbatch loss: 2.715302: 100%|██████████| 1/1 [00:00<00:00, 19.23it/s]\n"
     ]
    },
    {
     "name": "stdout",
     "output_type": "stream",
     "text": [
      "\n"
     ]
    },
    {
     "name": "stderr",
     "output_type": "stream",
     "text": [
      "Epoch: 39/200\tcls loss: 0.343604\tbox loss: 0.318665\treg loss: 2.515186\tbatch loss: 3.177455: 100%|██████████| 1/1 [00:00<00:00, 21.27it/s]\n"
     ]
    },
    {
     "name": "stdout",
     "output_type": "stream",
     "text": [
      "\n"
     ]
    },
    {
     "name": "stderr",
     "output_type": "stream",
     "text": [
      "Epoch: 40/200\tcls loss: 0.257919\tbox loss: 0.278181\treg loss: 2.679737\tbatch loss: 3.215837: 100%|██████████| 1/1 [00:00<00:00, 20.00it/s]\n"
     ]
    },
    {
     "name": "stdout",
     "output_type": "stream",
     "text": [
      "\n"
     ]
    },
    {
     "name": "stderr",
     "output_type": "stream",
     "text": [
      "Epoch: 41/200\tcls loss: 0.088177\tbox loss: 0.161902\treg loss: 3.163240\tbatch loss: 3.413319: 100%|██████████| 1/1 [00:00<00:00, 21.27it/s]\n"
     ]
    },
    {
     "name": "stdout",
     "output_type": "stream",
     "text": [
      "\n"
     ]
    },
    {
     "name": "stderr",
     "output_type": "stream",
     "text": [
      "Epoch: 42/200\tcls loss: 0.223936\tbox loss: 0.225416\treg loss: 3.186229\tbatch loss: 3.635581: 100%|██████████| 1/1 [00:00<00:00, 20.40it/s]\n"
     ]
    },
    {
     "name": "stdout",
     "output_type": "stream",
     "text": [
      "\n"
     ]
    },
    {
     "name": "stderr",
     "output_type": "stream",
     "text": [
      "Epoch: 43/200\tcls loss: 0.075953\tbox loss: 0.124377\treg loss: 2.616929\tbatch loss: 2.817259: 100%|██████████| 1/1 [00:00<00:00, 20.83it/s]\n"
     ]
    },
    {
     "name": "stdout",
     "output_type": "stream",
     "text": [
      "\n"
     ]
    },
    {
     "name": "stderr",
     "output_type": "stream",
     "text": [
      "Epoch: 44/200\tcls loss: 0.266842\tbox loss: 0.317511\treg loss: 2.856858\tbatch loss: 3.441211: 100%|██████████| 1/1 [00:00<00:00, 20.40it/s]\n"
     ]
    },
    {
     "name": "stdout",
     "output_type": "stream",
     "text": [
      "\n"
     ]
    },
    {
     "name": "stderr",
     "output_type": "stream",
     "text": [
      "Epoch: 45/200\tcls loss: 0.245070\tbox loss: 0.321048\treg loss: 2.582951\tbatch loss: 3.149069: 100%|██████████| 1/1 [00:00<00:00, 20.00it/s]\n"
     ]
    },
    {
     "name": "stdout",
     "output_type": "stream",
     "text": [
      "\n"
     ]
    },
    {
     "name": "stderr",
     "output_type": "stream",
     "text": [
      "Epoch: 46/200\tcls loss: 0.321865\tbox loss: 0.419124\treg loss: 2.933226\tbatch loss: 3.674216: 100%|██████████| 1/1 [00:00<00:00, 20.00it/s]\n"
     ]
    },
    {
     "name": "stdout",
     "output_type": "stream",
     "text": [
      "\n"
     ]
    },
    {
     "name": "stderr",
     "output_type": "stream",
     "text": [
      "Epoch: 47/200\tcls loss: 0.522531\tbox loss: 0.582924\treg loss: 2.257792\tbatch loss: 3.363246: 100%|██████████| 1/1 [00:00<00:00, 20.40it/s]\n"
     ]
    },
    {
     "name": "stdout",
     "output_type": "stream",
     "text": [
      "\n"
     ]
    },
    {
     "name": "stderr",
     "output_type": "stream",
     "text": [
      "Epoch: 48/200\tcls loss: 0.118550\tbox loss: 0.213346\treg loss: 2.175918\tbatch loss: 2.507813: 100%|██████████| 1/1 [00:00<00:00, 21.05it/s]\n"
     ]
    },
    {
     "name": "stdout",
     "output_type": "stream",
     "text": [
      "\n"
     ]
    },
    {
     "name": "stderr",
     "output_type": "stream",
     "text": [
      "Epoch: 49/200\tcls loss: 0.080503\tbox loss: 0.153714\treg loss: 2.189706\tbatch loss: 2.423923: 100%|██████████| 1/1 [00:00<00:00, 20.40it/s]\n"
     ]
    },
    {
     "name": "stdout",
     "output_type": "stream",
     "text": [
      "\n"
     ]
    },
    {
     "name": "stderr",
     "output_type": "stream",
     "text": [
      "Epoch: 50/200\tcls loss: 0.075423\tbox loss: 0.170411\treg loss: 2.233778\tbatch loss: 2.479613: 100%|██████████| 1/1 [00:00<00:00, 18.51it/s]\n"
     ]
    },
    {
     "name": "stdout",
     "output_type": "stream",
     "text": [
      "\n"
     ]
    },
    {
     "name": "stderr",
     "output_type": "stream",
     "text": [
      "Epoch: 51/200\tcls loss: 0.107015\tbox loss: 0.173492\treg loss: 1.811160\tbatch loss: 2.091667: 100%|██████████| 1/1 [00:00<00:00, 19.23it/s]\n"
     ]
    },
    {
     "name": "stdout",
     "output_type": "stream",
     "text": [
      "\n"
     ]
    },
    {
     "name": "stderr",
     "output_type": "stream",
     "text": [
      "Epoch: 52/200\tcls loss: 0.054795\tbox loss: 0.104965\treg loss: 2.899426\tbatch loss: 3.059186: 100%|██████████| 1/1 [00:00<00:00, 20.40it/s]\n"
     ]
    },
    {
     "name": "stdout",
     "output_type": "stream",
     "text": [
      "\n"
     ]
    },
    {
     "name": "stderr",
     "output_type": "stream",
     "text": [
      "Epoch: 53/200\tcls loss: 0.041697\tbox loss: 0.0884122\treg loss: 2.222957\tbatch loss: 2.353066: 100%|██████████| 1/1 [00:00<00:00, 20.00it/s]\n"
     ]
    },
    {
     "name": "stdout",
     "output_type": "stream",
     "text": [
      "\n"
     ]
    },
    {
     "name": "stderr",
     "output_type": "stream",
     "text": [
      "Epoch: 54/200\tcls loss: 0.153378\tbox loss: 0.256582\treg loss: 1.957703\tbatch loss: 2.367662: 100%|██████████| 1/1 [00:00<00:00, 20.00it/s]\n"
     ]
    },
    {
     "name": "stdout",
     "output_type": "stream",
     "text": [
      "\n"
     ]
    },
    {
     "name": "stderr",
     "output_type": "stream",
     "text": [
      "Epoch: 55/200\tcls loss: 0.104410\tbox loss: 0.190974\treg loss: 2.569665\tbatch loss: 2.865049: 100%|██████████| 1/1 [00:00<00:00, 20.00it/s]\n"
     ]
    },
    {
     "name": "stdout",
     "output_type": "stream",
     "text": [
      "\n"
     ]
    },
    {
     "name": "stderr",
     "output_type": "stream",
     "text": [
      "Epoch: 56/200\tcls loss: 0.109907\tbox loss: 0.213211\treg loss: 1.901193\tbatch loss: 2.224311: 100%|██████████| 1/1 [00:00<00:00, 20.00it/s]\n"
     ]
    },
    {
     "name": "stdout",
     "output_type": "stream",
     "text": [
      "\n"
     ]
    },
    {
     "name": "stderr",
     "output_type": "stream",
     "text": [
      "Epoch: 57/200\tcls loss: 0.147902\tbox loss: 0.255824\treg loss: 2.066272\tbatch loss: 2.469998: 100%|██████████| 1/1 [00:00<00:00, 20.83it/s]\n"
     ]
    },
    {
     "name": "stdout",
     "output_type": "stream",
     "text": [
      "\n"
     ]
    },
    {
     "name": "stderr",
     "output_type": "stream",
     "text": [
      "Epoch: 58/200\tcls loss: 0.242588\tbox loss: 0.415116\treg loss: 1.792993\tbatch loss: 2.450696: 100%|██████████| 1/1 [00:00<00:00, 19.23it/s]\n"
     ]
    },
    {
     "name": "stdout",
     "output_type": "stream",
     "text": [
      "\n"
     ]
    },
    {
     "name": "stderr",
     "output_type": "stream",
     "text": [
      "Epoch: 59/200\tcls loss: 0.201591\tbox loss: 0.215588\treg loss: 1.860314\tbatch loss: 2.277493: 100%|██████████| 1/1 [00:00<00:00, 19.23it/s]\n"
     ]
    },
    {
     "name": "stdout",
     "output_type": "stream",
     "text": [
      "\n"
     ]
    },
    {
     "name": "stderr",
     "output_type": "stream",
     "text": [
      "Epoch: 60/200\tcls loss: 0.145842\tbox loss: 0.195435\treg loss: 1.954721\tbatch loss: 2.295998: 100%|██████████| 1/1 [00:00<00:00, 19.23it/s]\n"
     ]
    },
    {
     "name": "stdout",
     "output_type": "stream",
     "text": [
      "\n"
     ]
    },
    {
     "name": "stderr",
     "output_type": "stream",
     "text": [
      "Epoch: 61/200\tcls loss: 0.207285\tbox loss: 0.240654\treg loss: 1.950510\tbatch loss: 2.398449: 100%|██████████| 1/1 [00:00<00:00, 20.00it/s]\n"
     ]
    },
    {
     "name": "stdout",
     "output_type": "stream",
     "text": [
      "\n"
     ]
    },
    {
     "name": "stderr",
     "output_type": "stream",
     "text": [
      "Epoch: 62/200\tcls loss: 0.052023\tbox loss: 0.104926\treg loss: 1.982887\tbatch loss: 2.139836: 100%|██████████| 1/1 [00:00<00:00, 20.83it/s]\n"
     ]
    },
    {
     "name": "stdout",
     "output_type": "stream",
     "text": [
      "\n"
     ]
    },
    {
     "name": "stderr",
     "output_type": "stream",
     "text": [
      "Epoch: 63/200\tcls loss: 0.024701\tbox loss: 0.0471095\treg loss: 3.163521\tbatch loss: 3.235332: 100%|██████████| 1/1 [00:00<00:00, 20.40it/s]\n"
     ]
    },
    {
     "name": "stdout",
     "output_type": "stream",
     "text": [
      "\n"
     ]
    },
    {
     "name": "stderr",
     "output_type": "stream",
     "text": [
      "Epoch: 64/200\tcls loss: 0.048043\tbox loss: 0.0781197\treg loss: 2.666716\tbatch loss: 2.792879: 100%|██████████| 1/1 [00:00<00:00, 20.83it/s]\n"
     ]
    },
    {
     "name": "stdout",
     "output_type": "stream",
     "text": [
      "\n"
     ]
    },
    {
     "name": "stderr",
     "output_type": "stream",
     "text": [
      "Epoch: 65/200\tcls loss: 0.039021\tbox loss: 0.0828241\treg loss: 1.895149\tbatch loss: 2.016994: 100%|██████████| 1/1 [00:00<00:00, 20.00it/s]\n"
     ]
    },
    {
     "name": "stdout",
     "output_type": "stream",
     "text": [
      "\n"
     ]
    },
    {
     "name": "stderr",
     "output_type": "stream",
     "text": [
      "Epoch: 66/200\tcls loss: 0.129867\tbox loss: 0.158935\treg loss: 3.232700\tbatch loss: 3.521502: 100%|██████████| 1/1 [00:00<00:00, 20.83it/s]\n"
     ]
    },
    {
     "name": "stdout",
     "output_type": "stream",
     "text": [
      "\n"
     ]
    },
    {
     "name": "stderr",
     "output_type": "stream",
     "text": [
      "Epoch: 67/200\tcls loss: 0.133609\tbox loss: 0.201405\treg loss: 2.182401\tbatch loss: 2.517414: 100%|██████████| 1/1 [00:00<00:00, 20.83it/s]\n"
     ]
    },
    {
     "name": "stdout",
     "output_type": "stream",
     "text": [
      "\n"
     ]
    },
    {
     "name": "stderr",
     "output_type": "stream",
     "text": [
      "Epoch: 68/200\tcls loss: 0.451747\tbox loss: 0.505099\treg loss: 1.596019\tbatch loss: 2.552865: 100%|██████████| 1/1 [00:00<00:00, 19.23it/s]\n"
     ]
    },
    {
     "name": "stdout",
     "output_type": "stream",
     "text": [
      "\n"
     ]
    },
    {
     "name": "stderr",
     "output_type": "stream",
     "text": [
      "Epoch: 69/200\tcls loss: 0.452896\tbox loss: 0.546228\treg loss: 1.824750\tbatch loss: 2.823875: 100%|██████████| 1/1 [00:00<00:00, 19.60it/s]\n"
     ]
    },
    {
     "name": "stdout",
     "output_type": "stream",
     "text": [
      "\n"
     ]
    },
    {
     "name": "stderr",
     "output_type": "stream",
     "text": [
      "Epoch: 70/200\tcls loss: 0.451126\tbox loss: 0.512019\treg loss: 1.899544\tbatch loss: 2.862689: 100%|██████████| 1/1 [00:00<00:00, 20.40it/s]\n"
     ]
    },
    {
     "name": "stdout",
     "output_type": "stream",
     "text": [
      "\n"
     ]
    },
    {
     "name": "stderr",
     "output_type": "stream",
     "text": [
      "Epoch: 71/200\tcls loss: 0.211915\tbox loss: 0.313208\treg loss: 1.664140\tbatch loss: 2.189263: 100%|██████████| 1/1 [00:00<00:00, 21.27it/s]\n"
     ]
    },
    {
     "name": "stdout",
     "output_type": "stream",
     "text": [
      "\n"
     ]
    },
    {
     "name": "stderr",
     "output_type": "stream",
     "text": [
      "Epoch: 72/200\tcls loss: 0.088981\tbox loss: 0.119939\treg loss: 1.663175\tbatch loss: 1.872095: 100%|██████████| 1/1 [00:00<00:00, 20.40it/s]\n"
     ]
    },
    {
     "name": "stdout",
     "output_type": "stream",
     "text": [
      "\n"
     ]
    },
    {
     "name": "stderr",
     "output_type": "stream",
     "text": [
      "Epoch: 73/200\tcls loss: 0.057723\tbox loss: 0.0876825\treg loss: 1.252034\tbatch loss: 1.397440: 100%|██████████| 1/1 [00:00<00:00, 19.47it/s]\n"
     ]
    },
    {
     "name": "stdout",
     "output_type": "stream",
     "text": [
      "\n"
     ]
    },
    {
     "name": "stderr",
     "output_type": "stream",
     "text": [
      "Epoch: 74/200\tcls loss: 0.173280\tbox loss: 0.170697\treg loss: 1.731012\tbatch loss: 2.074988: 100%|██████████| 1/1 [00:00<00:00, 20.40it/s]\n"
     ]
    },
    {
     "name": "stdout",
     "output_type": "stream",
     "text": [
      "\n"
     ]
    },
    {
     "name": "stderr",
     "output_type": "stream",
     "text": [
      "Epoch: 75/200\tcls loss: 0.050246\tbox loss: 0.0731765\treg loss: 1.737821\tbatch loss: 1.861243: 100%|██████████| 1/1 [00:00<00:00, 20.40it/s]\n"
     ]
    },
    {
     "name": "stdout",
     "output_type": "stream",
     "text": [
      "\n"
     ]
    },
    {
     "name": "stderr",
     "output_type": "stream",
     "text": [
      "Epoch: 76/200\tcls loss: 0.051970\tbox loss: 0.0865934\treg loss: 2.278790\tbatch loss: 2.417353: 100%|██████████| 1/1 [00:00<00:00, 20.40it/s]\n"
     ]
    },
    {
     "name": "stdout",
     "output_type": "stream",
     "text": [
      "\n"
     ]
    },
    {
     "name": "stderr",
     "output_type": "stream",
     "text": [
      "Epoch: 77/200\tcls loss: 0.047156\tbox loss: 0.0652403\treg loss: 1.565607\tbatch loss: 1.678004: 100%|██████████| 1/1 [00:00<00:00, 20.83it/s]\n"
     ]
    },
    {
     "name": "stdout",
     "output_type": "stream",
     "text": [
      "\n"
     ]
    },
    {
     "name": "stderr",
     "output_type": "stream",
     "text": [
      "Epoch: 78/200\tcls loss: 0.094960\tbox loss: 0.123025\treg loss: 1.378095\tbatch loss: 1.596080: 100%|██████████| 1/1 [00:00<00:00, 20.00it/s]\n"
     ]
    },
    {
     "name": "stdout",
     "output_type": "stream",
     "text": [
      "\n"
     ]
    },
    {
     "name": "stderr",
     "output_type": "stream",
     "text": [
      "Epoch: 79/200\tcls loss: 0.160305\tbox loss: 0.165548\treg loss: 1.056044\tbatch loss: 1.381898: 100%|██████████| 1/1 [00:00<00:00, 18.86it/s]\n"
     ]
    },
    {
     "name": "stdout",
     "output_type": "stream",
     "text": [
      "\n"
     ]
    },
    {
     "name": "stderr",
     "output_type": "stream",
     "text": [
      "Epoch: 80/200\tcls loss: 0.212806\tbox loss: 0.207256\treg loss: 1.476930\tbatch loss: 1.896991: 100%|██████████| 1/1 [00:00<00:00, 20.83it/s]\n"
     ]
    },
    {
     "name": "stdout",
     "output_type": "stream",
     "text": [
      "\n"
     ]
    },
    {
     "name": "stderr",
     "output_type": "stream",
     "text": [
      "Epoch: 81/200\tcls loss: 0.205506\tbox loss: 0.225846\treg loss: 2.038132\tbatch loss: 2.469483: 100%|██████████| 1/1 [00:00<00:00, 20.83it/s]\n"
     ]
    },
    {
     "name": "stdout",
     "output_type": "stream",
     "text": [
      "\n"
     ]
    },
    {
     "name": "stderr",
     "output_type": "stream",
     "text": [
      "Epoch: 82/200\tcls loss: 0.179047\tbox loss: 0.210517\treg loss: 1.677583\tbatch loss: 2.067147: 100%|██████████| 1/1 [00:00<00:00, 20.40it/s]\n"
     ]
    },
    {
     "name": "stdout",
     "output_type": "stream",
     "text": [
      "\n"
     ]
    },
    {
     "name": "stderr",
     "output_type": "stream",
     "text": [
      "Epoch: 83/200\tcls loss: 0.151291\tbox loss: 0.164963\treg loss: 1.259868\tbatch loss: 1.576122: 100%|██████████| 1/1 [00:00<00:00, 20.83it/s]\n"
     ]
    },
    {
     "name": "stdout",
     "output_type": "stream",
     "text": [
      "\n"
     ]
    },
    {
     "name": "stderr",
     "output_type": "stream",
     "text": [
      "Epoch: 84/200\tcls loss: 0.074424\tbox loss: 0.101219\treg loss: 1.880929\tbatch loss: 2.056572: 100%|██████████| 1/1 [00:00<00:00, 20.40it/s]\n"
     ]
    },
    {
     "name": "stdout",
     "output_type": "stream",
     "text": [
      "\n"
     ]
    },
    {
     "name": "stderr",
     "output_type": "stream",
     "text": [
      "Epoch: 85/200\tcls loss: 0.051343\tbox loss: 0.081685\treg loss: 1.657477\tbatch loss: 1.790505: 100%|██████████| 1/1 [00:00<00:00, 20.00it/s]\n"
     ]
    },
    {
     "name": "stdout",
     "output_type": "stream",
     "text": [
      "\n"
     ]
    },
    {
     "name": "stderr",
     "output_type": "stream",
     "text": [
      "Epoch: 86/200\tcls loss: 0.072696\tbox loss: 0.113785\treg loss: 1.137911\tbatch loss: 1.324392: 100%|██████████| 1/1 [00:00<00:00, 21.73it/s]\n"
     ]
    },
    {
     "name": "stdout",
     "output_type": "stream",
     "text": [
      "\n"
     ]
    },
    {
     "name": "stderr",
     "output_type": "stream",
     "text": [
      "Epoch: 87/200\tcls loss: 0.054314\tbox loss: 0.0896224\treg loss: 1.839842\tbatch loss: 1.983778: 100%|██████████| 1/1 [00:00<00:00, 20.00it/s]\n"
     ]
    },
    {
     "name": "stdout",
     "output_type": "stream",
     "text": [
      "\n"
     ]
    },
    {
     "name": "stderr",
     "output_type": "stream",
     "text": [
      "Epoch: 88/200\tcls loss: 0.058722\tbox loss: 0.1166\treg loss: 1.356108\tbatch loss: 1.531430: 100%|██████████| 1/1 [00:00<00:00, 20.83it/s]\n"
     ]
    },
    {
     "name": "stdout",
     "output_type": "stream",
     "text": [
      "\n"
     ]
    },
    {
     "name": "stderr",
     "output_type": "stream",
     "text": [
      "Epoch: 89/200\tcls loss: 0.068853\tbox loss: 0.121021\treg loss: 1.645917\tbatch loss: 1.835791: 100%|██████████| 1/1 [00:00<00:00, 20.00it/s]\n"
     ]
    },
    {
     "name": "stdout",
     "output_type": "stream",
     "text": [
      "\n"
     ]
    },
    {
     "name": "stderr",
     "output_type": "stream",
     "text": [
      "Epoch: 90/200\tcls loss: 0.108215\tbox loss: 0.185657\treg loss: 1.241101\tbatch loss: 1.534973: 100%|██████████| 1/1 [00:00<00:00, 20.40it/s]\n"
     ]
    },
    {
     "name": "stdout",
     "output_type": "stream",
     "text": [
      "\n"
     ]
    },
    {
     "name": "stderr",
     "output_type": "stream",
     "text": [
      "Epoch: 91/200\tcls loss: 0.144298\tbox loss: 0.263187\treg loss: 0.876101\tbatch loss: 1.283585: 100%|██████████| 1/1 [00:00<00:00, 20.00it/s]\n"
     ]
    },
    {
     "name": "stdout",
     "output_type": "stream",
     "text": [
      "\n"
     ]
    },
    {
     "name": "stderr",
     "output_type": "stream",
     "text": [
      "Epoch: 92/200\tcls loss: 0.148504\tbox loss: 0.208564\treg loss: 1.503860\tbatch loss: 1.860928: 100%|██████████| 1/1 [00:00<00:00, 20.00it/s]\n"
     ]
    },
    {
     "name": "stdout",
     "output_type": "stream",
     "text": [
      "\n"
     ]
    },
    {
     "name": "stderr",
     "output_type": "stream",
     "text": [
      "Epoch: 93/200\tcls loss: 0.106593\tbox loss: 0.214265\treg loss: 1.295649\tbatch loss: 1.616507: 100%|██████████| 1/1 [00:00<00:00, 20.00it/s]\n"
     ]
    },
    {
     "name": "stdout",
     "output_type": "stream",
     "text": [
      "\n"
     ]
    },
    {
     "name": "stderr",
     "output_type": "stream",
     "text": [
      "Epoch: 94/200\tcls loss: 0.085176\tbox loss: 0.177357\treg loss: 1.033357\tbatch loss: 1.295891: 100%|██████████| 1/1 [00:00<00:00, 20.83it/s]\n"
     ]
    },
    {
     "name": "stdout",
     "output_type": "stream",
     "text": [
      "\n"
     ]
    },
    {
     "name": "stderr",
     "output_type": "stream",
     "text": [
      "Epoch: 95/200\tcls loss: 0.162288\tbox loss: 0.275206\treg loss: 1.380939\tbatch loss: 1.818433: 100%|██████████| 1/1 [00:00<00:00, 19.60it/s]\n"
     ]
    },
    {
     "name": "stdout",
     "output_type": "stream",
     "text": [
      "\n"
     ]
    },
    {
     "name": "stderr",
     "output_type": "stream",
     "text": [
      "Epoch: 96/200\tcls loss: 0.118917\tbox loss: 0.194797\treg loss: 1.330441\tbatch loss: 1.644155: 100%|██████████| 1/1 [00:00<00:00, 20.00it/s]\n"
     ]
    },
    {
     "name": "stdout",
     "output_type": "stream",
     "text": [
      "\n"
     ]
    },
    {
     "name": "stderr",
     "output_type": "stream",
     "text": [
      "Epoch: 97/200\tcls loss: 0.083974\tbox loss: 0.115561\treg loss: 1.046630\tbatch loss: 1.246166: 100%|██████████| 1/1 [00:00<00:00, 19.60it/s]\n"
     ]
    },
    {
     "name": "stdout",
     "output_type": "stream",
     "text": [
      "\n"
     ]
    },
    {
     "name": "stderr",
     "output_type": "stream",
     "text": [
      "Epoch: 98/200\tcls loss: 0.051240\tbox loss: 0.0665841\treg loss: 1.383101\tbatch loss: 1.500926: 100%|██████████| 1/1 [00:00<00:00, 20.00it/s]\n"
     ]
    },
    {
     "name": "stdout",
     "output_type": "stream",
     "text": [
      "\n"
     ]
    },
    {
     "name": "stderr",
     "output_type": "stream",
     "text": [
      "Epoch: 99/200\tcls loss: 0.060842\tbox loss: 0.0674881\treg loss: 1.441370\tbatch loss: 1.569700: 100%|██████████| 1/1 [00:00<00:00, 20.83it/s]\n"
     ]
    },
    {
     "name": "stdout",
     "output_type": "stream",
     "text": [
      "\n"
     ]
    },
    {
     "name": "stderr",
     "output_type": "stream",
     "text": [
      "Epoch: 100/200\tcls loss: 0.042883\tbox loss: 0.0550057\treg loss: 1.614182\tbatch loss: 1.712071: 100%|██████████| 1/1 [00:00<00:00, 20.40it/s]\n"
     ]
    },
    {
     "name": "stdout",
     "output_type": "stream",
     "text": [
      "\n"
     ]
    },
    {
     "name": "stderr",
     "output_type": "stream",
     "text": [
      "Epoch: 101/200\tcls loss: 0.074185\tbox loss: 0.0847978\treg loss: 1.338894\tbatch loss: 1.497877: 100%|██████████| 1/1 [00:00<00:00, 19.60it/s]\n"
     ]
    },
    {
     "name": "stdout",
     "output_type": "stream",
     "text": [
      "\n"
     ]
    },
    {
     "name": "stderr",
     "output_type": "stream",
     "text": [
      "Epoch: 102/200\tcls loss: 0.079503\tbox loss: 0.0944733\treg loss: 1.048591\tbatch loss: 1.222567: 100%|██████████| 1/1 [00:00<00:00, 20.00it/s]\n"
     ]
    },
    {
     "name": "stdout",
     "output_type": "stream",
     "text": [
      "\n"
     ]
    },
    {
     "name": "stderr",
     "output_type": "stream",
     "text": [
      "Epoch: 103/200\tcls loss: 0.080647\tbox loss: 0.112563\treg loss: 1.307847\tbatch loss: 1.501057: 100%|██████████| 1/1 [00:00<00:00, 21.27it/s]\n"
     ]
    },
    {
     "name": "stdout",
     "output_type": "stream",
     "text": [
      "\n"
     ]
    },
    {
     "name": "stderr",
     "output_type": "stream",
     "text": [
      "Epoch: 104/200\tcls loss: 0.085144\tbox loss: 0.0758385\treg loss: 1.734247\tbatch loss: 1.895230: 100%|██████████| 1/1 [00:00<00:00, 19.23it/s]\n"
     ]
    },
    {
     "name": "stdout",
     "output_type": "stream",
     "text": [
      "\n"
     ]
    },
    {
     "name": "stderr",
     "output_type": "stream",
     "text": [
      "Epoch: 105/200\tcls loss: 0.122692\tbox loss: 0.1409\treg loss: 1.365296\tbatch loss: 1.628888: 100%|██████████| 1/1 [00:00<00:00, 20.83it/s]\n"
     ]
    },
    {
     "name": "stdout",
     "output_type": "stream",
     "text": [
      "\n"
     ]
    },
    {
     "name": "stderr",
     "output_type": "stream",
     "text": [
      "Epoch: 106/200\tcls loss: 0.131413\tbox loss: 0.129854\treg loss: 1.203498\tbatch loss: 1.464764: 100%|██████████| 1/1 [00:00<00:00, 20.83it/s]\n"
     ]
    },
    {
     "name": "stdout",
     "output_type": "stream",
     "text": [
      "\n"
     ]
    },
    {
     "name": "stderr",
     "output_type": "stream",
     "text": [
      "Epoch: 107/200\tcls loss: 0.043444\tbox loss: 0.0732946\treg loss: 1.084166\tbatch loss: 1.200904: 100%|██████████| 1/1 [00:00<00:00, 19.60it/s]\n"
     ]
    },
    {
     "name": "stdout",
     "output_type": "stream",
     "text": [
      "\n"
     ]
    },
    {
     "name": "stderr",
     "output_type": "stream",
     "text": [
      "Epoch: 108/200\tcls loss: 0.126557\tbox loss: 0.136263\treg loss: 1.520179\tbatch loss: 1.782999: 100%|██████████| 1/1 [00:00<00:00, 20.40it/s]\n"
     ]
    },
    {
     "name": "stdout",
     "output_type": "stream",
     "text": [
      "\n"
     ]
    },
    {
     "name": "stderr",
     "output_type": "stream",
     "text": [
      "Epoch: 109/200\tcls loss: 0.089424\tbox loss: 0.099678\treg loss: 2.618554\tbatch loss: 2.807655: 100%|██████████| 1/1 [00:00<00:00, 20.83it/s]\n"
     ]
    },
    {
     "name": "stdout",
     "output_type": "stream",
     "text": [
      "\n"
     ]
    },
    {
     "name": "stderr",
     "output_type": "stream",
     "text": [
      "Epoch: 110/200\tcls loss: 0.115595\tbox loss: 0.132601\treg loss: 0.928051\tbatch loss: 1.176248: 100%|██████████| 1/1 [00:00<00:00, 20.83it/s]\n"
     ]
    },
    {
     "name": "stdout",
     "output_type": "stream",
     "text": [
      "\n"
     ]
    },
    {
     "name": "stderr",
     "output_type": "stream",
     "text": [
      "Epoch: 111/200\tcls loss: 0.107630\tbox loss: 0.154578\treg loss: 1.167212\tbatch loss: 1.429420: 100%|██████████| 1/1 [00:00<00:00, 20.40it/s]\n"
     ]
    },
    {
     "name": "stdout",
     "output_type": "stream",
     "text": [
      "\n"
     ]
    },
    {
     "name": "stderr",
     "output_type": "stream",
     "text": [
      "Epoch: 112/200\tcls loss: 0.130409\tbox loss: 0.20033\treg loss: 1.065358\tbatch loss: 1.396098: 100%|██████████| 1/1 [00:00<00:00, 20.00it/s]\n"
     ]
    },
    {
     "name": "stdout",
     "output_type": "stream",
     "text": [
      "\n"
     ]
    },
    {
     "name": "stderr",
     "output_type": "stream",
     "text": [
      "Epoch: 113/200\tcls loss: 0.090627\tbox loss: 0.176936\treg loss: 1.090711\tbatch loss: 1.358274: 100%|██████████| 1/1 [00:00<00:00, 20.00it/s]\n"
     ]
    },
    {
     "name": "stdout",
     "output_type": "stream",
     "text": [
      "\n"
     ]
    },
    {
     "name": "stderr",
     "output_type": "stream",
     "text": [
      "Epoch: 114/200\tcls loss: 0.119888\tbox loss: 0.18338\treg loss: 1.116987\tbatch loss: 1.420255: 100%|██████████| 1/1 [00:00<00:00, 19.23it/s]\n"
     ]
    },
    {
     "name": "stdout",
     "output_type": "stream",
     "text": [
      "\n"
     ]
    },
    {
     "name": "stderr",
     "output_type": "stream",
     "text": [
      "Epoch: 115/200\tcls loss: 0.109546\tbox loss: 0.217051\treg loss: 1.300374\tbatch loss: 1.626971: 100%|██████████| 1/1 [00:00<00:00, 19.60it/s]\n"
     ]
    },
    {
     "name": "stdout",
     "output_type": "stream",
     "text": [
      "\n"
     ]
    },
    {
     "name": "stderr",
     "output_type": "stream",
     "text": [
      "Epoch: 116/200\tcls loss: 0.075444\tbox loss: 0.157952\treg loss: 1.102376\tbatch loss: 1.335772: 100%|██████████| 1/1 [00:00<00:00, 21.27it/s]\n"
     ]
    },
    {
     "name": "stdout",
     "output_type": "stream",
     "text": [
      "\n"
     ]
    },
    {
     "name": "stderr",
     "output_type": "stream",
     "text": [
      "Epoch: 117/200\tcls loss: 0.156283\tbox loss: 0.249167\treg loss: 1.571324\tbatch loss: 1.976774: 100%|██████████| 1/1 [00:00<00:00, 21.73it/s]\n"
     ]
    },
    {
     "name": "stdout",
     "output_type": "stream",
     "text": [
      "\n"
     ]
    },
    {
     "name": "stderr",
     "output_type": "stream",
     "text": [
      "Epoch: 118/200\tcls loss: 0.101596\tbox loss: 0.209443\treg loss: 0.784896\tbatch loss: 1.095935: 100%|██████████| 1/1 [00:00<00:00, 20.40it/s]\n"
     ]
    },
    {
     "name": "stdout",
     "output_type": "stream",
     "text": [
      "\n"
     ]
    },
    {
     "name": "stderr",
     "output_type": "stream",
     "text": [
      "Epoch: 119/200\tcls loss: 0.142510\tbox loss: 0.199733\treg loss: 0.805500\tbatch loss: 1.147742: 100%|██████████| 1/1 [00:00<00:00, 20.00it/s]\n"
     ]
    },
    {
     "name": "stdout",
     "output_type": "stream",
     "text": [
      "\n"
     ]
    },
    {
     "name": "stderr",
     "output_type": "stream",
     "text": [
      "Epoch: 120/200\tcls loss: 0.126082\tbox loss: 0.176017\treg loss: 0.891747\tbatch loss: 1.193846: 100%|██████████| 1/1 [00:00<00:00, 22.22it/s]\n"
     ]
    },
    {
     "name": "stdout",
     "output_type": "stream",
     "text": [
      "\n"
     ]
    },
    {
     "name": "stderr",
     "output_type": "stream",
     "text": [
      "Epoch: 121/200\tcls loss: 0.078099\tbox loss: 0.163299\treg loss: 1.178647\tbatch loss: 1.420046: 100%|██████████| 1/1 [00:00<00:00, 20.40it/s]\n"
     ]
    },
    {
     "name": "stdout",
     "output_type": "stream",
     "text": [
      "\n"
     ]
    },
    {
     "name": "stderr",
     "output_type": "stream",
     "text": [
      "Epoch: 122/200\tcls loss: 0.069255\tbox loss: 0.122351\treg loss: 1.310967\tbatch loss: 1.502573: 100%|██████████| 1/1 [00:00<00:00, 20.00it/s]\n"
     ]
    },
    {
     "name": "stdout",
     "output_type": "stream",
     "text": [
      "\n"
     ]
    },
    {
     "name": "stderr",
     "output_type": "stream",
     "text": [
      "Epoch: 123/200\tcls loss: 0.058677\tbox loss: 0.101227\treg loss: 1.332005\tbatch loss: 1.491908: 100%|██████████| 1/1 [00:00<00:00, 21.27it/s]\n"
     ]
    },
    {
     "name": "stdout",
     "output_type": "stream",
     "text": [
      "\n"
     ]
    },
    {
     "name": "stderr",
     "output_type": "stream",
     "text": [
      "Epoch: 124/200\tcls loss: 0.118061\tbox loss: 0.135702\treg loss: 1.882547\tbatch loss: 2.136310: 100%|██████████| 1/1 [00:00<00:00, 21.73it/s]\n"
     ]
    },
    {
     "name": "stdout",
     "output_type": "stream",
     "text": [
      "\n"
     ]
    },
    {
     "name": "stderr",
     "output_type": "stream",
     "text": [
      "Epoch: 125/200\tcls loss: 0.071217\tbox loss: 0.102573\treg loss: 0.842950\tbatch loss: 1.016740: 100%|██████████| 1/1 [00:00<00:00, 20.00it/s]\n"
     ]
    },
    {
     "name": "stdout",
     "output_type": "stream",
     "text": [
      "\n"
     ]
    },
    {
     "name": "stderr",
     "output_type": "stream",
     "text": [
      "Epoch: 126/200\tcls loss: 0.080590\tbox loss: 0.0872514\treg loss: 1.554020\tbatch loss: 1.721862: 100%|██████████| 1/1 [00:00<00:00, 20.83it/s]\n"
     ]
    },
    {
     "name": "stdout",
     "output_type": "stream",
     "text": [
      "\n"
     ]
    },
    {
     "name": "stderr",
     "output_type": "stream",
     "text": [
      "Epoch: 127/200\tcls loss: 0.116392\tbox loss: 0.120152\treg loss: 0.901542\tbatch loss: 1.138085: 100%|██████████| 1/1 [00:00<00:00, 15.38it/s]\n"
     ]
    },
    {
     "name": "stdout",
     "output_type": "stream",
     "text": [
      "\n"
     ]
    },
    {
     "name": "stderr",
     "output_type": "stream",
     "text": [
      "Epoch: 128/200\tcls loss: 0.080769\tbox loss: 0.105665\treg loss: 1.410460\tbatch loss: 1.596894: 100%|██████████| 1/1 [00:00<00:00, 21.73it/s]\n"
     ]
    },
    {
     "name": "stdout",
     "output_type": "stream",
     "text": [
      "\n"
     ]
    },
    {
     "name": "stderr",
     "output_type": "stream",
     "text": [
      "Epoch: 129/200\tcls loss: 0.157926\tbox loss: 0.13934\treg loss: 1.326614\tbatch loss: 1.623880: 100%|██████████| 1/1 [00:00<00:00, 21.27it/s]\n"
     ]
    },
    {
     "name": "stdout",
     "output_type": "stream",
     "text": [
      "\n"
     ]
    },
    {
     "name": "stderr",
     "output_type": "stream",
     "text": [
      "Epoch: 130/200\tcls loss: 0.116034\tbox loss: 0.138482\treg loss: 1.498651\tbatch loss: 1.753167: 100%|██████████| 1/1 [00:00<00:00, 20.40it/s]\n"
     ]
    },
    {
     "name": "stdout",
     "output_type": "stream",
     "text": [
      "\n"
     ]
    },
    {
     "name": "stderr",
     "output_type": "stream",
     "text": [
      "Epoch: 131/200\tcls loss: 0.141426\tbox loss: 0.169538\treg loss: 0.923316\tbatch loss: 1.234280: 100%|██████████| 1/1 [00:00<00:00, 21.27it/s]\n"
     ]
    },
    {
     "name": "stdout",
     "output_type": "stream",
     "text": [
      "\n"
     ]
    },
    {
     "name": "stderr",
     "output_type": "stream",
     "text": [
      "Epoch: 132/200\tcls loss: 0.135289\tbox loss: 0.124418\treg loss: 1.128803\tbatch loss: 1.388510: 100%|██████████| 1/1 [00:00<00:00, 19.60it/s]\n"
     ]
    },
    {
     "name": "stdout",
     "output_type": "stream",
     "text": [
      "\n"
     ]
    },
    {
     "name": "stderr",
     "output_type": "stream",
     "text": [
      "Epoch: 133/200\tcls loss: 0.125707\tbox loss: 0.124249\treg loss: 0.721528\tbatch loss: 0.971484: 100%|██████████| 1/1 [00:00<00:00, 20.40it/s]\n"
     ]
    },
    {
     "name": "stdout",
     "output_type": "stream",
     "text": [
      "\n"
     ]
    },
    {
     "name": "stderr",
     "output_type": "stream",
     "text": [
      "Epoch: 134/200\tcls loss: 0.040807\tbox loss: 0.0734844\treg loss: 1.094626\tbatch loss: 1.208917: 100%|██████████| 1/1 [00:00<00:00, 20.83it/s]\n"
     ]
    },
    {
     "name": "stdout",
     "output_type": "stream",
     "text": [
      "\n"
     ]
    },
    {
     "name": "stderr",
     "output_type": "stream",
     "text": [
      "Epoch: 135/200\tcls loss: 0.082966\tbox loss: 0.111268\treg loss: 1.200474\tbatch loss: 1.394709: 100%|██████████| 1/1 [00:00<00:00, 21.27it/s]\n"
     ]
    },
    {
     "name": "stdout",
     "output_type": "stream",
     "text": [
      "\n"
     ]
    },
    {
     "name": "stderr",
     "output_type": "stream",
     "text": [
      "Epoch: 136/200\tcls loss: 0.054759\tbox loss: 0.0731959\treg loss: 0.799322\tbatch loss: 0.927277: 100%|██████████| 1/1 [00:00<00:00, 20.83it/s]\n"
     ]
    },
    {
     "name": "stdout",
     "output_type": "stream",
     "text": [
      "\n"
     ]
    },
    {
     "name": "stderr",
     "output_type": "stream",
     "text": [
      "Epoch: 137/200\tcls loss: 0.073116\tbox loss: 0.121902\treg loss: 1.500399\tbatch loss: 1.695416: 100%|██████████| 1/1 [00:00<00:00, 21.73it/s]\n"
     ]
    },
    {
     "name": "stdout",
     "output_type": "stream",
     "text": [
      "\n"
     ]
    },
    {
     "name": "stderr",
     "output_type": "stream",
     "text": [
      "Epoch: 138/200\tcls loss: 0.082006\tbox loss: 0.162167\treg loss: 1.019897\tbatch loss: 1.264070: 100%|██████████| 1/1 [00:00<00:00, 20.40it/s]\n"
     ]
    },
    {
     "name": "stdout",
     "output_type": "stream",
     "text": [
      "\n"
     ]
    },
    {
     "name": "stderr",
     "output_type": "stream",
     "text": [
      "Epoch: 139/200\tcls loss: 0.066385\tbox loss: 0.105716\treg loss: 1.194753\tbatch loss: 1.366853: 100%|██████████| 1/1 [00:00<00:00, 21.27it/s]\n"
     ]
    },
    {
     "name": "stdout",
     "output_type": "stream",
     "text": [
      "\n"
     ]
    },
    {
     "name": "stderr",
     "output_type": "stream",
     "text": [
      "Epoch: 140/200\tcls loss: 0.048450\tbox loss: 0.121837\treg loss: 1.156045\tbatch loss: 1.326332: 100%|██████████| 1/1 [00:00<00:00, 21.27it/s]\n"
     ]
    },
    {
     "name": "stdout",
     "output_type": "stream",
     "text": [
      "\n"
     ]
    },
    {
     "name": "stderr",
     "output_type": "stream",
     "text": [
      "Epoch: 141/200\tcls loss: 0.068501\tbox loss: 0.143755\treg loss: 0.955419\tbatch loss: 1.167676: 100%|██████████| 1/1 [00:00<00:00, 19.23it/s]\n"
     ]
    },
    {
     "name": "stdout",
     "output_type": "stream",
     "text": [
      "\n"
     ]
    },
    {
     "name": "stderr",
     "output_type": "stream",
     "text": [
      "Epoch: 142/200\tcls loss: 0.149015\tbox loss: 0.239284\treg loss: 1.050056\tbatch loss: 1.438355: 100%|██████████| 1/1 [00:00<00:00, 20.00it/s]\n"
     ]
    },
    {
     "name": "stdout",
     "output_type": "stream",
     "text": [
      "\n"
     ]
    },
    {
     "name": "stderr",
     "output_type": "stream",
     "text": [
      "Epoch: 143/200\tcls loss: 0.115669\tbox loss: 0.185738\treg loss: 0.619557\tbatch loss: 0.920963: 100%|██████████| 1/1 [00:00<00:00, 20.83it/s]\n"
     ]
    },
    {
     "name": "stdout",
     "output_type": "stream",
     "text": [
      "\n"
     ]
    },
    {
     "name": "stderr",
     "output_type": "stream",
     "text": [
      "Epoch: 144/200\tcls loss: 0.064382\tbox loss: 0.0984225\treg loss: 1.005283\tbatch loss: 1.168087: 100%|██████████| 1/1 [00:00<00:00, 19.60it/s]\n"
     ]
    },
    {
     "name": "stdout",
     "output_type": "stream",
     "text": [
      "\n"
     ]
    },
    {
     "name": "stderr",
     "output_type": "stream",
     "text": [
      "Epoch: 145/200\tcls loss: 0.098198\tbox loss: 0.118473\treg loss: 0.911242\tbatch loss: 1.127913: 100%|██████████| 1/1 [00:00<00:00, 19.23it/s]\n"
     ]
    },
    {
     "name": "stdout",
     "output_type": "stream",
     "text": [
      "\n"
     ]
    },
    {
     "name": "stderr",
     "output_type": "stream",
     "text": [
      "Epoch: 146/200\tcls loss: 0.061310\tbox loss: 0.115985\treg loss: 0.928769\tbatch loss: 1.106065: 100%|██████████| 1/1 [00:00<00:00, 20.40it/s]\n"
     ]
    },
    {
     "name": "stdout",
     "output_type": "stream",
     "text": [
      "\n"
     ]
    },
    {
     "name": "stderr",
     "output_type": "stream",
     "text": [
      "Epoch: 147/200\tcls loss: 0.063221\tbox loss: 0.0737208\treg loss: 0.865727\tbatch loss: 1.002669: 100%|██████████| 1/1 [00:00<00:00, 20.40it/s]\n"
     ]
    },
    {
     "name": "stdout",
     "output_type": "stream",
     "text": [
      "\n"
     ]
    },
    {
     "name": "stderr",
     "output_type": "stream",
     "text": [
      "Epoch: 148/200\tcls loss: 0.066750\tbox loss: 0.0945909\treg loss: 0.812374\tbatch loss: 0.973714: 100%|██████████| 1/1 [00:00<00:00, 20.00it/s]\n"
     ]
    },
    {
     "name": "stdout",
     "output_type": "stream",
     "text": [
      "\n"
     ]
    },
    {
     "name": "stderr",
     "output_type": "stream",
     "text": [
      "Epoch: 149/200\tcls loss: 0.081887\tbox loss: 0.0864614\treg loss: 0.808889\tbatch loss: 0.977237: 100%|██████████| 1/1 [00:00<00:00, 19.60it/s]\n"
     ]
    },
    {
     "name": "stdout",
     "output_type": "stream",
     "text": [
      "\n"
     ]
    },
    {
     "name": "stderr",
     "output_type": "stream",
     "text": [
      "Epoch: 150/200\tcls loss: 0.100616\tbox loss: 0.101457\treg loss: 1.237950\tbatch loss: 1.440023: 100%|██████████| 1/1 [00:00<00:00, 20.40it/s]\n"
     ]
    },
    {
     "name": "stdout",
     "output_type": "stream",
     "text": [
      "\n"
     ]
    },
    {
     "name": "stderr",
     "output_type": "stream",
     "text": [
      "Epoch: 151/200\tcls loss: 0.065907\tbox loss: 0.0690974\treg loss: 2.096765\tbatch loss: 2.231770: 100%|██████████| 1/1 [00:00<00:00, 19.23it/s]\n"
     ]
    },
    {
     "name": "stdout",
     "output_type": "stream",
     "text": [
      "\n"
     ]
    },
    {
     "name": "stderr",
     "output_type": "stream",
     "text": [
      "Epoch: 152/200\tcls loss: 0.032456\tbox loss: 0.0533549\treg loss: 1.065249\tbatch loss: 1.151060: 100%|██████████| 1/1 [00:00<00:00, 18.86it/s]\n"
     ]
    },
    {
     "name": "stdout",
     "output_type": "stream",
     "text": [
      "\n"
     ]
    },
    {
     "name": "stderr",
     "output_type": "stream",
     "text": [
      "Epoch: 153/200\tcls loss: 0.103329\tbox loss: 0.104622\treg loss: 1.169022\tbatch loss: 1.376972: 100%|██████████| 1/1 [00:00<00:00, 20.00it/s]\n"
     ]
    },
    {
     "name": "stdout",
     "output_type": "stream",
     "text": [
      "\n"
     ]
    },
    {
     "name": "stderr",
     "output_type": "stream",
     "text": [
      "Epoch: 154/200\tcls loss: 0.152216\tbox loss: 0.148131\treg loss: 0.852574\tbatch loss: 1.152922: 100%|██████████| 1/1 [00:00<00:00, 20.40it/s]\n"
     ]
    },
    {
     "name": "stdout",
     "output_type": "stream",
     "text": [
      "\n"
     ]
    },
    {
     "name": "stderr",
     "output_type": "stream",
     "text": [
      "Epoch: 155/200\tcls loss: 0.088335\tbox loss: 0.119233\treg loss: 0.881590\tbatch loss: 1.089158: 100%|██████████| 1/1 [00:00<00:00, 19.60it/s]\n"
     ]
    },
    {
     "name": "stdout",
     "output_type": "stream",
     "text": [
      "\n"
     ]
    },
    {
     "name": "stderr",
     "output_type": "stream",
     "text": [
      "Epoch: 156/200\tcls loss: 0.076051\tbox loss: 0.116733\treg loss: 0.885181\tbatch loss: 1.077965: 100%|██████████| 1/1 [00:00<00:00,  9.52it/s]\n"
     ]
    },
    {
     "name": "stdout",
     "output_type": "stream",
     "text": [
      "\n"
     ]
    },
    {
     "name": "stderr",
     "output_type": "stream",
     "text": [
      "Epoch: 157/200\tcls loss: 0.093040\tbox loss: 0.15487\treg loss: 0.985810\tbatch loss: 1.233720: 100%|██████████| 1/1 [00:00<00:00, 19.60it/s]\n"
     ]
    },
    {
     "name": "stdout",
     "output_type": "stream",
     "text": [
      "\n"
     ]
    },
    {
     "name": "stderr",
     "output_type": "stream",
     "text": [
      "Epoch: 158/200\tcls loss: 0.064353\tbox loss: 0.153935\treg loss: 0.871107\tbatch loss: 1.089395: 100%|██████████| 1/1 [00:00<00:00, 18.86it/s]\n"
     ]
    },
    {
     "name": "stdout",
     "output_type": "stream",
     "text": [
      "\n"
     ]
    },
    {
     "name": "stderr",
     "output_type": "stream",
     "text": [
      "Epoch: 159/200\tcls loss: 0.058884\tbox loss: 0.12731\treg loss: 0.927487\tbatch loss: 1.113681: 100%|██████████| 1/1 [00:00<00:00, 19.60it/s]\n"
     ]
    },
    {
     "name": "stdout",
     "output_type": "stream",
     "text": [
      "\n"
     ]
    },
    {
     "name": "stderr",
     "output_type": "stream",
     "text": [
      "Epoch: 160/200\tcls loss: 0.111914\tbox loss: 0.160692\treg loss: 0.834245\tbatch loss: 1.106850: 100%|██████████| 1/1 [00:00<00:00, 19.60it/s]\n"
     ]
    },
    {
     "name": "stdout",
     "output_type": "stream",
     "text": [
      "\n"
     ]
    },
    {
     "name": "stderr",
     "output_type": "stream",
     "text": [
      "Epoch: 161/200\tcls loss: 0.076311\tbox loss: 0.153524\treg loss: 0.699387\tbatch loss: 0.929222: 100%|██████████| 1/1 [00:00<00:00, 20.40it/s]\n"
     ]
    },
    {
     "name": "stdout",
     "output_type": "stream",
     "text": [
      "\n"
     ]
    },
    {
     "name": "stderr",
     "output_type": "stream",
     "text": [
      "Epoch: 162/200\tcls loss: 0.070122\tbox loss: 0.141927\treg loss: 0.724487\tbatch loss: 0.936537: 100%|██████████| 1/1 [00:00<00:00, 21.27it/s]\n"
     ]
    },
    {
     "name": "stdout",
     "output_type": "stream",
     "text": [
      "\n"
     ]
    },
    {
     "name": "stderr",
     "output_type": "stream",
     "text": [
      "Epoch: 163/200\tcls loss: 0.113413\tbox loss: 0.201875\treg loss: 0.886477\tbatch loss: 1.201765: 100%|██████████| 1/1 [00:00<00:00, 20.83it/s]\n"
     ]
    },
    {
     "name": "stdout",
     "output_type": "stream",
     "text": [
      "\n"
     ]
    },
    {
     "name": "stderr",
     "output_type": "stream",
     "text": [
      "Epoch: 164/200\tcls loss: 0.102836\tbox loss: 0.167449\treg loss: 0.655255\tbatch loss: 0.925539: 100%|██████████| 1/1 [00:00<00:00, 18.86it/s]\n"
     ]
    },
    {
     "name": "stdout",
     "output_type": "stream",
     "text": [
      "\n"
     ]
    },
    {
     "name": "stderr",
     "output_type": "stream",
     "text": [
      "Epoch: 165/200\tcls loss: 0.094174\tbox loss: 0.151366\treg loss: 0.631760\tbatch loss: 0.877299: 100%|██████████| 1/1 [00:00<00:00, 20.00it/s]\n"
     ]
    },
    {
     "name": "stdout",
     "output_type": "stream",
     "text": [
      "\n"
     ]
    },
    {
     "name": "stderr",
     "output_type": "stream",
     "text": [
      "Epoch: 166/200\tcls loss: 0.065859\tbox loss: 0.102032\treg loss: 0.614793\tbatch loss: 0.782684: 100%|██████████| 1/1 [00:00<00:00, 19.60it/s]\n"
     ]
    },
    {
     "name": "stdout",
     "output_type": "stream",
     "text": [
      "\n"
     ]
    },
    {
     "name": "stderr",
     "output_type": "stream",
     "text": [
      "Epoch: 167/200\tcls loss: 0.256253\tbox loss: 0.267866\treg loss: 0.682450\tbatch loss: 1.206569: 100%|██████████| 1/1 [00:00<00:00, 20.40it/s]\n"
     ]
    },
    {
     "name": "stdout",
     "output_type": "stream",
     "text": [
      "\n"
     ]
    },
    {
     "name": "stderr",
     "output_type": "stream",
     "text": [
      "Epoch: 168/200\tcls loss: 0.154841\tbox loss: 0.138942\treg loss: 0.599797\tbatch loss: 0.893580: 100%|██████████| 1/1 [00:00<00:00, 19.60it/s]\n"
     ]
    },
    {
     "name": "stdout",
     "output_type": "stream",
     "text": [
      "\n"
     ]
    },
    {
     "name": "stderr",
     "output_type": "stream",
     "text": [
      "Epoch: 169/200\tcls loss: 0.058121\tbox loss: 0.0638202\treg loss: 0.643269\tbatch loss: 0.765210: 100%|██████████| 1/1 [00:00<00:00, 19.60it/s]\n"
     ]
    },
    {
     "name": "stdout",
     "output_type": "stream",
     "text": [
      "\n"
     ]
    },
    {
     "name": "stderr",
     "output_type": "stream",
     "text": [
      "Epoch: 170/200\tcls loss: 0.048647\tbox loss: 0.0562057\treg loss: 0.829864\tbatch loss: 0.934717: 100%|██████████| 1/1 [00:00<00:00, 20.00it/s]\n"
     ]
    },
    {
     "name": "stdout",
     "output_type": "stream",
     "text": [
      "\n"
     ]
    },
    {
     "name": "stderr",
     "output_type": "stream",
     "text": [
      "Epoch: 171/200\tcls loss: 0.048220\tbox loss: 0.0685383\treg loss: 0.776122\tbatch loss: 0.892881: 100%|██████████| 1/1 [00:00<00:00, 20.83it/s]\n"
     ]
    },
    {
     "name": "stdout",
     "output_type": "stream",
     "text": [
      "\n"
     ]
    },
    {
     "name": "stderr",
     "output_type": "stream",
     "text": [
      "Epoch: 172/200\tcls loss: 0.041104\tbox loss: 0.0567996\treg loss: 0.665888\tbatch loss: 0.763792: 100%|██████████| 1/1 [00:00<00:00, 20.40it/s]\n"
     ]
    },
    {
     "name": "stdout",
     "output_type": "stream",
     "text": [
      "\n"
     ]
    },
    {
     "name": "stderr",
     "output_type": "stream",
     "text": [
      "Epoch: 173/200\tcls loss: 0.048332\tbox loss: 0.0888019\treg loss: 0.732893\tbatch loss: 0.870027: 100%|██████████| 1/1 [00:00<00:00, 20.40it/s]\n"
     ]
    },
    {
     "name": "stdout",
     "output_type": "stream",
     "text": [
      "\n"
     ]
    },
    {
     "name": "stderr",
     "output_type": "stream",
     "text": [
      "Epoch: 174/200\tcls loss: 0.039754\tbox loss: 0.0595931\treg loss: 0.766973\tbatch loss: 0.866320: 100%|██████████| 1/1 [00:00<00:00, 20.00it/s]\n"
     ]
    },
    {
     "name": "stdout",
     "output_type": "stream",
     "text": [
      "\n"
     ]
    },
    {
     "name": "stderr",
     "output_type": "stream",
     "text": [
      "Epoch: 175/200\tcls loss: 0.055733\tbox loss: 0.0920108\treg loss: 0.811047\tbatch loss: 0.958791: 100%|██████████| 1/1 [00:00<00:00, 19.60it/s]\n"
     ]
    },
    {
     "name": "stdout",
     "output_type": "stream",
     "text": [
      "\n"
     ]
    },
    {
     "name": "stderr",
     "output_type": "stream",
     "text": [
      "Epoch: 176/200\tcls loss: 0.069846\tbox loss: 0.13351\treg loss: 0.783330\tbatch loss: 0.986686: 100%|██████████| 1/1 [00:00<00:00, 19.60it/s]\n"
     ]
    },
    {
     "name": "stdout",
     "output_type": "stream",
     "text": [
      "\n"
     ]
    },
    {
     "name": "stderr",
     "output_type": "stream",
     "text": [
      "Epoch: 177/200\tcls loss: 0.139461\tbox loss: 0.160637\treg loss: 0.892989\tbatch loss: 1.193088: 100%|██████████| 1/1 [00:00<00:00, 20.83it/s]\n"
     ]
    },
    {
     "name": "stdout",
     "output_type": "stream",
     "text": [
      "\n"
     ]
    },
    {
     "name": "stderr",
     "output_type": "stream",
     "text": [
      "Epoch: 178/200\tcls loss: 0.059694\tbox loss: 0.0814858\treg loss: 0.494515\tbatch loss: 0.635694: 100%|██████████| 1/1 [00:00<00:00, 20.40it/s]\n"
     ]
    },
    {
     "name": "stdout",
     "output_type": "stream",
     "text": [
      "\n"
     ]
    },
    {
     "name": "stderr",
     "output_type": "stream",
     "text": [
      "Epoch: 179/200\tcls loss: 0.080169\tbox loss: 0.109576\treg loss: 0.828272\tbatch loss: 1.018016: 100%|██████████| 1/1 [00:00<00:00, 20.83it/s]\n"
     ]
    },
    {
     "name": "stdout",
     "output_type": "stream",
     "text": [
      "\n"
     ]
    },
    {
     "name": "stderr",
     "output_type": "stream",
     "text": [
      "Epoch: 180/200\tcls loss: 0.066148\tbox loss: 0.0963192\treg loss: 0.774164\tbatch loss: 0.936631: 100%|██████████| 1/1 [00:00<00:00, 20.40it/s]\n"
     ]
    },
    {
     "name": "stdout",
     "output_type": "stream",
     "text": [
      "\n"
     ]
    },
    {
     "name": "stderr",
     "output_type": "stream",
     "text": [
      "Epoch: 181/200\tcls loss: 0.085181\tbox loss: 0.104526\treg loss: 0.583281\tbatch loss: 0.772989: 100%|██████████| 1/1 [00:00<00:00, 20.40it/s]\n"
     ]
    },
    {
     "name": "stdout",
     "output_type": "stream",
     "text": [
      "\n"
     ]
    },
    {
     "name": "stderr",
     "output_type": "stream",
     "text": [
      "Epoch: 182/200\tcls loss: 0.068007\tbox loss: 0.0852065\treg loss: 0.587313\tbatch loss: 0.740527: 100%|██████████| 1/1 [00:00<00:00, 20.00it/s]\n"
     ]
    },
    {
     "name": "stdout",
     "output_type": "stream",
     "text": [
      "\n"
     ]
    },
    {
     "name": "stderr",
     "output_type": "stream",
     "text": [
      "Epoch: 183/200\tcls loss: 0.065146\tbox loss: 0.0965171\treg loss: 0.561585\tbatch loss: 0.723249: 100%|██████████| 1/1 [00:00<00:00, 20.83it/s]\n"
     ]
    },
    {
     "name": "stdout",
     "output_type": "stream",
     "text": [
      "\n"
     ]
    },
    {
     "name": "stderr",
     "output_type": "stream",
     "text": [
      "Epoch: 184/200\tcls loss: 0.093262\tbox loss: 0.123671\treg loss: 0.470510\tbatch loss: 0.687443: 100%|██████████| 1/1 [00:00<00:00, 20.40it/s]\n"
     ]
    },
    {
     "name": "stdout",
     "output_type": "stream",
     "text": [
      "\n"
     ]
    },
    {
     "name": "stderr",
     "output_type": "stream",
     "text": [
      "Epoch: 185/200\tcls loss: 0.086599\tbox loss: 0.126105\treg loss: 0.807946\tbatch loss: 1.020649: 100%|██████████| 1/1 [00:00<00:00, 20.40it/s]\n"
     ]
    },
    {
     "name": "stdout",
     "output_type": "stream",
     "text": [
      "\n"
     ]
    },
    {
     "name": "stderr",
     "output_type": "stream",
     "text": [
      "Epoch: 186/200\tcls loss: 0.109294\tbox loss: 0.132282\treg loss: 0.581938\tbatch loss: 0.823514: 100%|██████████| 1/1 [00:00<00:00, 20.00it/s]\n"
     ]
    },
    {
     "name": "stdout",
     "output_type": "stream",
     "text": [
      "\n"
     ]
    },
    {
     "name": "stderr",
     "output_type": "stream",
     "text": [
      "Epoch: 187/200\tcls loss: 0.045446\tbox loss: 0.0906252\treg loss: 0.853943\tbatch loss: 0.990014: 100%|██████████| 1/1 [00:00<00:00, 21.73it/s]\n"
     ]
    },
    {
     "name": "stdout",
     "output_type": "stream",
     "text": [
      "\n"
     ]
    },
    {
     "name": "stderr",
     "output_type": "stream",
     "text": [
      "Epoch: 188/200\tcls loss: 0.043615\tbox loss: 0.0992393\treg loss: 0.617586\tbatch loss: 0.760441: 100%|██████████| 1/1 [00:00<00:00, 18.51it/s]\n"
     ]
    },
    {
     "name": "stdout",
     "output_type": "stream",
     "text": [
      "\n"
     ]
    },
    {
     "name": "stderr",
     "output_type": "stream",
     "text": [
      "Epoch: 189/200\tcls loss: 0.042881\tbox loss: 0.0988105\treg loss: 1.135751\tbatch loss: 1.277442: 100%|██████████| 1/1 [00:00<00:00, 19.60it/s]\n"
     ]
    },
    {
     "name": "stdout",
     "output_type": "stream",
     "text": [
      "\n"
     ]
    },
    {
     "name": "stderr",
     "output_type": "stream",
     "text": [
      "Epoch: 190/200\tcls loss: 0.076034\tbox loss: 0.142613\treg loss: 0.639369\tbatch loss: 0.858016: 100%|██████████| 1/1 [00:00<00:00, 19.60it/s]\n"
     ]
    },
    {
     "name": "stdout",
     "output_type": "stream",
     "text": [
      "\n"
     ]
    },
    {
     "name": "stderr",
     "output_type": "stream",
     "text": [
      "Epoch: 191/200\tcls loss: 0.053521\tbox loss: 0.0986094\treg loss: 0.590676\tbatch loss: 0.742806: 100%|██████████| 1/1 [00:00<00:00, 20.40it/s]\n"
     ]
    },
    {
     "name": "stdout",
     "output_type": "stream",
     "text": [
      "\n"
     ]
    },
    {
     "name": "stderr",
     "output_type": "stream",
     "text": [
      "Epoch: 192/200\tcls loss: 0.088459\tbox loss: 0.168383\treg loss: 0.358407\tbatch loss: 0.615249: 100%|██████████| 1/1 [00:00<00:00, 20.40it/s]\n"
     ]
    },
    {
     "name": "stdout",
     "output_type": "stream",
     "text": [
      "\n"
     ]
    },
    {
     "name": "stderr",
     "output_type": "stream",
     "text": [
      "Epoch: 193/200\tcls loss: 0.144111\tbox loss: 0.183966\treg loss: 0.651357\tbatch loss: 0.979434: 100%|██████████| 1/1 [00:00<00:00, 20.00it/s]\n"
     ]
    },
    {
     "name": "stdout",
     "output_type": "stream",
     "text": [
      "\n"
     ]
    },
    {
     "name": "stderr",
     "output_type": "stream",
     "text": [
      "Epoch: 194/200\tcls loss: 0.092665\tbox loss: 0.160629\treg loss: 0.544793\tbatch loss: 0.798087: 100%|██████████| 1/1 [00:00<00:00, 20.00it/s]\n"
     ]
    },
    {
     "name": "stdout",
     "output_type": "stream",
     "text": [
      "\n"
     ]
    },
    {
     "name": "stderr",
     "output_type": "stream",
     "text": [
      "Epoch: 195/200\tcls loss: 0.072564\tbox loss: 0.108759\treg loss: 0.734579\tbatch loss: 0.915901: 100%|██████████| 1/1 [00:00<00:00, 21.27it/s]\n"
     ]
    },
    {
     "name": "stdout",
     "output_type": "stream",
     "text": [
      "\n"
     ]
    },
    {
     "name": "stderr",
     "output_type": "stream",
     "text": [
      "Epoch: 196/200\tcls loss: 0.096577\tbox loss: 0.131132\treg loss: 0.237834\tbatch loss: 0.465543: 100%|██████████| 1/1 [00:00<00:00, 20.83it/s]\n"
     ]
    },
    {
     "name": "stdout",
     "output_type": "stream",
     "text": [
      "\n"
     ]
    },
    {
     "name": "stderr",
     "output_type": "stream",
     "text": [
      "Epoch: 197/200\tcls loss: 0.049499\tbox loss: 0.0765486\treg loss: 0.465047\tbatch loss: 0.591095: 100%|██████████| 1/1 [00:00<00:00, 19.23it/s]\n"
     ]
    },
    {
     "name": "stdout",
     "output_type": "stream",
     "text": [
      "\n"
     ]
    },
    {
     "name": "stderr",
     "output_type": "stream",
     "text": [
      "Epoch: 198/200\tcls loss: 0.141758\tbox loss: 0.143606\treg loss: 0.310451\tbatch loss: 0.595814: 100%|██████████| 1/1 [00:00<00:00, 20.40it/s]\n"
     ]
    },
    {
     "name": "stdout",
     "output_type": "stream",
     "text": [
      "\n"
     ]
    },
    {
     "name": "stderr",
     "output_type": "stream",
     "text": [
      "Epoch: 199/200\tcls loss: 0.074809\tbox loss: 0.0790646\treg loss: 0.712456\tbatch loss: 0.866329: 100%|██████████| 1/1 [00:00<00:00, 18.51it/s]\n"
     ]
    },
    {
     "name": "stdout",
     "output_type": "stream",
     "text": [
      "\n"
     ]
    },
    {
     "name": "stderr",
     "output_type": "stream",
     "text": [
      "Epoch: 200/200\tcls loss: 0.075108\tbox loss: 0.072726\treg loss: 0.459142\tbatch loss: 0.606976: 100%|██████████| 1/1 [00:00<00:00, 19.23it/s]"
     ]
    },
    {
     "name": "stdout",
     "output_type": "stream",
     "text": [
      "\n"
     ]
    },
    {
     "name": "stderr",
     "output_type": "stream",
     "text": [
      "\n"
     ]
    }
   ],
   "source": [
    "epochs = 200\n",
    "\n",
    "m.train()\n",
    "for epoch in range(1, epochs+1):\n",
    "    pbar = tqdm(train_dataloader, total=len(train_dataloader))\n",
    "    train_epoch_loss, train_epoch_cls_loss, train_epoch_obj_loss, train_epoch_box_loss = 0, 0, 0, 0\n",
    "\n",
    "    for train_minibatch, (img, gridinfo) in enumerate(pbar):\n",
    "        img = img.to(cfg.DEVICE)\n",
    "        gridinfo = gridinfo.to(cfg.DEVICE)\n",
    "        \n",
    "        res = m(img)\n",
    "\n",
    "        calc_loss, cls_loss, box_loss, reg_loss = criterion(res, gridinfo)\n",
    "        \n",
    "        optimizer.zero_grad()\n",
    "        calc_loss.backward()\n",
    "        optimizer.step()\n",
    "\n",
    "        train_epoch_loss = (train_epoch_loss * train_minibatch + calc_loss.item()) / (train_minibatch + 1)\n",
    "        train_epoch_cls_loss = (train_epoch_cls_loss * train_minibatch + cls_loss.item()) / (train_minibatch + 1)\n",
    "        train_epoch_obj_loss = (train_epoch_obj_loss * train_minibatch + box_loss.item()) / (train_minibatch + 1)\n",
    "        train_epoch_box_loss = (train_epoch_box_loss * train_minibatch+ reg_loss.item()) / (train_minibatch + 1)\n",
    "\n",
    "        loss_status = f\"Epoch: {epoch}/{epochs}\\tcls loss: {train_epoch_cls_loss:.6f}\\tobj loss: {train_epoch_obj_loss:.6}\\tbox loss: {train_epoch_box_loss:.6f}\\tbatch loss: {train_epoch_loss:.6f}\"\n",
    "        pbar.set_description_str(loss_status)\n",
    "    \n",
    "    print()"
   ]
  },
  {
   "cell_type": "code",
   "execution_count": 46,
   "metadata": {},
   "outputs": [
    {
     "name": "stdout",
     "output_type": "stream",
     "text": [
      "[119.20536804199219, 111.66951751708984, 135.5998992919922, 138.76065063476562]\n",
      "[92.90949249267578, 91.64190673828125, 125.78553009033203, 170.10934448242188]\n",
      "[2.7996902465820312, 132.76205444335938, 45.547481536865234, 218.45941162109375]\n",
      "[79.28658294677734, 139.6858673095703, 131.57626342773438, 220.22279357910156]\n",
      "[121.596435546875, 117.95085144042969, 157.14620971679688, 209.90138244628906]\n"
     ]
    },
    {
     "data": {
      "image/png": "[encoded data removed]",
      "text/plain": [
       "<PIL.Image.Image image mode=RGB size=640x480>"
      ]
     },
     "execution_count": 46,
     "metadata": {},
     "output_type": "execute_result"
    }
   ],
   "source": [
    "from PIL import Image, ImageDraw\n",
    "\n",
    "m.eval()\n",
    "A_inference = A.Compose([A.Resize(224, 224),\n",
    "                         A.Normalize(),\n",
    "                         A_transform.ToTensorV2()])\n",
    "\n",
    "imgpath = 'path/of/image'\n",
    "img = Image.open(imgpath)\n",
    "\n",
    "img = img.resize((224, 224))\n",
    "annot_image = ImageDraw.Draw(img)\n",
    "\n",
    "def detect(img, transform_module, model):\n",
    "    aug_img = np.array(img)\n",
    "    aug_img = transform_module(image=aug_img)['image'].to(cfg.DEVICE)\n",
    "    \n",
    "    pred = model(aug_img.unsqueeze(0))\n",
    "    res = model.inference(pred[0], 224, 224)\n",
    "    pred = clip_boxes_to_image(res, size=(224, 224))\n",
    "    \n",
    "    bbox_pred = box_convert(pred[:, :4], in_fmt='cxcywh', out_fmt='xyxy')\n",
    "    label_pred = [cfg.IDX2CLASSES[label] for label in pred[:, 5].tolist()]\n",
    "    \n",
    "    draw = ImageDraw.Draw(img)\n",
    "    \n",
    "    for bbox, label in zip(bbox_pred, label_pred):\n",
    "        bbox = bbox.tolist()\n",
    "        print(bbox)\n",
    "        draw.rectangle(bbox, outline=(0, 255, 0))\n",
    "        draw.text(bbox[:2], label, (255, 255, 0))\n",
    "\n",
    "    return img\n",
    "\n",
    "detect(img, A_inference, m).resize((640, 480))"
   ]
  }
 ],
 "metadata": {
  "kernelspec": {
   "display_name": "torchenv",
   "language": "python",
   "name": "python3"
  },
  "language_info": {
   "codemirror_mode": {
    "name": "ipython",
    "version": 3
   },
   "file_extension": ".py",
   "mimetype": "text/x-python",
   "name": "python",
   "nbconvert_exporter": "python",
   "pygments_lexer": "ipython3",
   "version": "3.8.16"
  },
  "orig_nbformat": 4
 },
 "nbformat": 4,
 "nbformat_minor": 2
}
